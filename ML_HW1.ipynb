{
 "cells": [
  {
   "cell_type": "code",
   "execution_count": 59,
   "metadata": {
    "id": "0IeKs_POSFFR"
   },
   "outputs": [],
   "source": [
    "import numpy as np\n",
    "from sklearn.datasets import make_regression\n",
    "from sklearn.linear_model import LinearRegression\n",
    "from sklearn.metrics import mean_squared_error"
   ]
  },
  {
   "cell_type": "code",
   "execution_count": 60,
   "metadata": {
    "colab": {
     "base_uri": "https://localhost:8080/"
    },
    "id": "I9aqRszSSacp",
    "outputId": "8ddb3567-b43c-48a9-867c-bf45d4cd8ae0"
   },
   "outputs": [
    {
     "name": "stdout",
     "output_type": "stream",
     "text": [
      "(10000, 100) (10000,)\n"
     ]
    }
   ],
   "source": [
    "X, y = make_regression(n_samples = 10000)\n",
    "print(X.shape, y.shape)\n"
   ]
  },
  {
   "cell_type": "code",
   "execution_count": 61,
   "metadata": {
    "colab": {
     "base_uri": "https://localhost:8080/"
    },
    "id": "1_igzfkJ2jGM",
    "outputId": "8d60e6e0-835c-4293-ca62-f446ac2a53fe"
   },
   "outputs": [
    {
     "data": {
      "text/plain": [
       "array([[-0.93473413, -0.04137874, -1.47435606, ..., -1.01026224,\n",
       "         1.15514148,  1.16792141],\n",
       "       [-0.59830423, -2.4281984 , -0.04540794, ..., -0.85985086,\n",
       "        -0.72700965,  1.20094271],\n",
       "       [ 0.21159383, -1.10803502, -1.04988622, ..., -0.81271778,\n",
       "         0.80994773, -2.73416328],\n",
       "       ...,\n",
       "       [-0.44785221, -0.29744062,  0.51196471, ..., -0.46095611,\n",
       "        -1.26694996, -0.23586   ],\n",
       "       [-0.59900057,  0.04583117,  0.78449663, ..., -0.36648339,\n",
       "         1.75676239, -0.38711696],\n",
       "       [ 1.16455952,  0.06786122,  0.65297705, ..., -0.21345905,\n",
       "         0.83828827, -0.4185727 ]])"
      ]
     },
     "execution_count": 61,
     "metadata": {},
     "output_type": "execute_result"
    }
   ],
   "source": [
    "X"
   ]
  },
  {
   "cell_type": "code",
   "execution_count": 62,
   "metadata": {
    "colab": {
     "base_uri": "https://localhost:8080/"
    },
    "id": "sDwKLnXiShkq",
    "outputId": "8213bbe5-0af8-4ef3-fac0-2cb15179f3c2"
   },
   "outputs": [
    {
     "name": "stdout",
     "output_type": "stream",
     "text": [
      "7.758068010650475e-26\n"
     ]
    },
    {
     "data": {
      "text/plain": [
       "array([ 4.25840173e-14,  4.61852778e-14,  1.77635684e-15, -5.86197757e-14,\n",
       "       -7.10542736e-15, -2.28705943e-14,  1.77635684e-14,  1.28785871e-14,\n",
       "       -6.57252031e-14, -1.42108547e-14,  4.79616347e-14, -1.77635684e-15,\n",
       "        1.86517468e-14, -3.33066907e-15,  1.06581410e-14, -4.44089210e-14,\n",
       "        2.07611706e-14, -3.08642001e-14,  3.65089737e+01,  3.37507799e-14,\n",
       "        2.60902411e-14,  0.00000000e+00, -2.13162821e-14,  3.19744231e-14,\n",
       "        1.95399252e-14, -2.13162821e-14,  7.10542736e-15, -5.32907052e-15,\n",
       "        9.76996262e-15,  1.77635684e-15, -6.03961325e-14, -1.06581410e-14,\n",
       "       -5.41788836e-14, -1.15463195e-14, -8.88178420e-15,  1.19904087e-14,\n",
       "        2.08721929e-14, -1.33226763e-14,  3.73034936e-14,  2.66453526e-15,\n",
       "       -7.10542736e-15,  1.24344979e-14,  5.32907052e-15, -2.75335310e-14,\n",
       "       -1.95399252e-14,  8.88178420e-15,  3.19744231e-14,  1.77635684e-14,\n",
       "        2.36330980e+01, -3.10862447e-15,  5.32907052e-15, -2.75335310e-14,\n",
       "        1.06581410e-14, -5.68434189e-14,  2.13162821e-14, -1.06581410e-14,\n",
       "        3.99680289e-14,  8.88178420e-16, -3.73034936e-14, -3.01980663e-14,\n",
       "        8.19340508e+01,  5.59552404e-14,  1.33226763e-14,  1.02600015e+01,\n",
       "       -1.77635684e-15,  6.73831487e+01, -2.66453526e-14,  2.48689958e-14,\n",
       "       -1.90958360e-14,  5.24025268e-14,  0.00000000e+00, -5.32907052e-15,\n",
       "        3.55271368e-15,  1.24344979e-14, -2.48689958e-14, -5.32907052e-15,\n",
       "        5.02647303e+01,  1.64313008e-14,  1.00810763e+01, -1.77635684e-15,\n",
       "        1.42108547e-14,  3.19744231e-14, -9.32587341e-15,  4.62060603e+01,\n",
       "       -1.90958360e-14, -2.13162821e-14,  2.22044605e-15,  1.06581410e-14,\n",
       "        4.26594605e+01, -2.25375274e-14,  2.30926389e-14,  1.77635684e-15,\n",
       "        1.77635684e-15, -3.28626015e-14, -1.77635684e-15,  3.01980663e-14,\n",
       "        4.54970517e+01,  2.88657986e-15, -2.53130850e-14,  6.66133815e-14])"
      ]
     },
     "execution_count": 62,
     "metadata": {},
     "output_type": "execute_result"
    }
   ],
   "source": [
    "reg = LinearRegression().fit(X, y)\n",
    "print(mean_squared_error(y, reg.predict(X)))\n",
    "reg.coef_"
   ]
  },
  {
   "cell_type": "markdown",
   "metadata": {
    "id": "c598XrypSy-_"
   },
   "source": [
    "Мы получили с помощью sklearn значение MSE << 1 (близкий к 0), это неудивительно, т.к. у нас изначально линейная зависимость\n",
    "\n"
   ]
  },
  {
   "cell_type": "code",
   "execution_count": 63,
   "metadata": {
    "colab": {
     "base_uri": "https://localhost:8080/"
    },
    "id": "AcIUJ8uqSky_",
    "outputId": "65cc4b41-9450-4dc1-a7f8-8cc4698354e0"
   },
   "outputs": [
    {
     "name": "stdout",
     "output_type": "stream",
     "text": [
      "2.0478358164277794e-12\n"
     ]
    },
    {
     "data": {
      "text/plain": [
       "array([-2.04010159e-08,  2.27050077e-08, -2.17205071e-08,  4.79493381e-08,\n",
       "        9.38322952e-09, -2.99277742e-09,  3.73223636e-08, -4.01632361e-08,\n",
       "        1.25519604e-08,  1.99867164e-08, -4.37350807e-08,  2.50242808e-08,\n",
       "        8.75815711e-09,  1.35709388e-08, -2.36588872e-09,  2.56878396e-08,\n",
       "       -2.79345696e-09, -3.68169326e-08,  3.65089734e+01, -1.21803831e-08,\n",
       "        9.92898963e-09,  2.96999677e-08,  4.06115955e-08, -1.27918597e-09,\n",
       "       -9.32883201e-09,  7.07705239e-09, -2.76722648e-08,  2.02628303e-08,\n",
       "       -1.19631523e-08, -1.75753699e-08, -4.22915618e-08,  3.67332937e-08,\n",
       "        1.13271905e-08, -1.67589929e-08, -2.87343536e-09, -4.77571739e-08,\n",
       "        1.17586927e-08, -3.88413715e-08,  4.92902895e-08,  2.48825780e-08,\n",
       "        3.27385349e-08, -1.32657147e-08, -7.58857019e-09,  5.38980011e-09,\n",
       "       -1.77972366e-08, -2.23509020e-08, -2.64713954e-10,  4.06553833e-08,\n",
       "        2.36330977e+01, -1.86919910e-09,  2.78128923e-08,  2.12691890e-08,\n",
       "       -3.86420211e-08, -4.55288241e-08,  2.66086314e-08,  1.58545873e-08,\n",
       "       -4.67040849e-08, -2.09708481e-08,  2.26830665e-08,  1.04376935e-08,\n",
       "        8.19340500e+01, -4.36534412e-08, -2.71985719e-08,  1.02600013e+01,\n",
       "       -4.90119041e-09,  6.73831481e+01, -2.63199253e-08, -1.10581964e-08,\n",
       "        9.92398025e-09, -4.27919094e-08,  1.30106170e-08,  1.78175358e-08,\n",
       "        2.75525645e-09,  6.86406454e-09, -2.40015376e-08, -2.58446673e-08,\n",
       "        5.02647298e+01, -3.68088936e-08,  1.00810761e+01,  1.36878065e-08,\n",
       "        4.25121505e-08, -1.00484084e-08, -3.26470220e-08,  4.62060598e+01,\n",
       "       -5.50531066e-08, -8.89888561e-09,  2.91189142e-08, -2.76694352e-08,\n",
       "        4.26594601e+01,  4.11844650e-08, -1.41587068e-08, -5.71272441e-09,\n",
       "       -3.30162262e-08, -4.05243528e-08,  3.29260252e-08, -8.61495266e-09,\n",
       "        4.54970513e+01, -1.19393298e-08,  4.24562882e-09,  1.90278918e-09])"
      ]
     },
     "execution_count": 63,
     "metadata": {},
     "output_type": "execute_result"
    }
   ],
   "source": [
    "from sklearn.linear_model import SGDRegressor\n",
    "reg = SGDRegressor(alpha=0.00000001).fit(X, y)\n",
    "print(mean_squared_error(y, reg.predict(X)))\n",
    "reg.coef_\n"
   ]
  },
  {
   "cell_type": "markdown",
   "metadata": {
    "id": "riirxhmHT6_i"
   },
   "source": [
    "У нас ошибка тоже близка к нулю, но порядок отличается очень сильно (10^(-12) и 10^(-25)) - это разницу можно объяснить тем, что мы ввели \"штраф\" в виде регуляризации с $\\alpha$ = 0.00000001. Но на самом деле нам незачем вводить лишний вес, потому регуляризацию делают, чтобы избежать переобучения, влияния шумов или решить не совсем корректную задачу (и т.д. и т.п.). У нас таких проблем нет, ничего добавлять к функции к ошибок не надо, возьмем   $\\alpha$ = 0."
   ]
  },
  {
   "cell_type": "code",
   "execution_count": 64,
   "metadata": {
    "colab": {
     "base_uri": "https://localhost:8080/"
    },
    "id": "pjVUqsbwTWmv",
    "outputId": "ed303b8d-b8e6-4a52-9e7a-069d0e98d71c"
   },
   "outputs": [
    {
     "name": "stdout",
     "output_type": "stream",
     "text": [
      "5.017489041293499e-25\n"
     ]
    },
    {
     "data": {
      "text/plain": [
       "array([-2.17579840e-14,  1.85106094e-14,  3.24078131e-15, -5.37801812e-16,\n",
       "        7.46085802e-15,  1.52174050e-14, -2.06975760e-15, -1.75859611e-14,\n",
       "        3.49932467e-14,  1.52709257e-14,  8.55326062e-15,  1.22607823e-14,\n",
       "       -1.68901087e-16, -4.42119757e-15, -5.67514253e-15,  3.29852517e-14,\n",
       "        1.75222275e-14, -4.81160398e-15,  3.65089737e+01, -1.56763783e-14,\n",
       "        1.24788301e-15,  1.43833787e-14,  2.06579209e-14,  9.46165811e-15,\n",
       "       -5.12311808e-16,  6.54370180e-15, -1.99777161e-15, -3.74887617e-14,\n",
       "        4.79852841e-15,  1.40508105e-14, -2.36985051e-14,  5.13134565e-15,\n",
       "        1.41452980e-14,  2.57679079e-15,  1.89871702e-15, -7.27550288e-15,\n",
       "       -3.95137355e-15, -3.04419009e-15,  3.21069268e-15,  1.44550976e-14,\n",
       "        2.01152766e-14,  1.84300351e-14, -1.69083318e-14, -2.22490713e-15,\n",
       "        1.24597944e-14,  9.41992289e-15, -5.70082002e-15, -1.28082468e-16,\n",
       "        2.36330980e+01,  5.19538647e-15,  8.71231632e-15,  2.37236831e-14,\n",
       "       -1.83970996e-14, -1.96514792e-15,  1.75820741e-14,  1.09544253e-14,\n",
       "       -2.79907805e-15, -1.38972559e-14,  2.52776667e-15,  1.72802146e-14,\n",
       "        8.19340508e+01, -1.33500818e-14,  1.40317749e-14,  1.02600015e+01,\n",
       "       -3.40299325e-15,  6.73831487e+01, -2.17118884e-15, -1.11381853e-15,\n",
       "       -2.43864985e-14,  3.40620804e-15,  1.29143508e-14,  2.25767916e-14,\n",
       "        1.52312836e-14,  2.70146815e-14,  6.68378890e-15, -3.16717235e-14,\n",
       "        5.02647303e+01,  1.30363268e-15,  1.00810763e+01, -2.05545906e-15,\n",
       "       -4.45360668e-15, -2.54660243e-15, -1.62778901e-14,  4.62060603e+01,\n",
       "       -4.56838126e-15, -3.39915483e-15, -1.22741630e-14, -1.09980211e-14,\n",
       "        4.26594605e+01, -6.46006539e-15,  1.42317803e-14, -2.90305290e-14,\n",
       "        1.80055398e-14,  2.09525057e-15,  5.47672349e-15, -1.85518738e-15,\n",
       "        4.54970517e+01,  1.85691433e-14,  2.54253414e-14,  2.42721279e-14])"
      ]
     },
     "execution_count": 64,
     "metadata": {},
     "output_type": "execute_result"
    }
   ],
   "source": [
    "reg = SGDRegressor(alpha=0).fit(X, y)\n",
    "print(mean_squared_error(y, reg.predict(X)))\n",
    "reg.coef_"
   ]
  },
  {
   "cell_type": "markdown",
   "metadata": {
    "id": "l_U0O8XgYWZ7"
   },
   "source": [
    "Теперь различие только в 5 раз, а не на порядок. Эта разница уже может объясняться тем, что \"под капотом\" sklearn алгоритм реализован лучше, чем у нас"
   ]
  },
  {
   "cell_type": "markdown",
   "metadata": {
    "id": "IT86WCiYez8K"
   },
   "source": [
    "Алиев - 5 букв $=>$ у меня 2 вариант (если я верно умею считать) "
   ]
  },
  {
   "cell_type": "code",
   "execution_count": 65,
   "metadata": {
    "colab": {
     "base_uri": "https://localhost:8080/"
    },
    "id": "TemF4_UnUymi",
    "outputId": "8c15170d-8d28-49e8-bb83-67d3b1fb4e83"
   },
   "outputs": [
    {
     "name": "stdout",
     "output_type": "stream",
     "text": [
      "0.0002662093652053855\n",
      "You are amazing! Great work!\n"
     ]
    }
   ],
   "source": [
    "import random\n",
    "\n",
    "def sgn(w):\n",
    "  return np.array([np.sign(w[i]) for i in range(w.shape[0])])\n",
    "\n",
    "\n",
    "class LinearRegression(object):\n",
    "    def __init__(self, alpha=0.0001, l_ratio=0.01, tol=0.00001, max_iter=1000):\n",
    "      self.alpha = alpha\n",
    "      self.l_ratio = l_ratio\n",
    "      self.tol = tol\n",
    "      self.max_iter = max_iter\n",
    "      self.w = None\n",
    "   \n",
    "    def fit(self, X, y):\n",
    "      n = X.shape[1]\n",
    "      v = np.array([10**20 for _ in range(X.shape[1])])\n",
    "      w = np.array([random.random() for _ in range(X.shape[1])])\n",
    "      iter = 0\n",
    "      while (abs(mean_squared_error(X.dot(w), y) - mean_squared_error(X.dot(v),y)) > self.tol and iter <= self.max_iter):\n",
    "        grad = 2/n*(X.T.dot(X.dot(w) - y))\n",
    "        w, v = w - grad * self.alpha, w\n",
    "        iter += 1\n",
    "      #print(iter)\n",
    "      self.w = w\n",
    "\n",
    "    def coef_(self):\n",
    "      return self.w\n",
    "    \n",
    "    def predict(self, X):\n",
    "        return np.dot(self.w, X.T)\n",
    "\n",
    "    def MSE(self, X, y):\n",
    "      return mean_squared_error(self.predict(X), y)\n",
    "\n",
    "my_reg = LinearRegression()\n",
    "my_reg.fit(X, y)\n",
    "my_reg.coef_()\n",
    "\n",
    "print(mean_squared_error(y, my_reg.predict(X)))\n",
    "\n",
    "assert mean_squared_error(y, my_reg.predict(X)) < 1e-3\n",
    "print('You are amazing! Great work!')"
   ]
  },
  {
   "cell_type": "markdown",
   "metadata": {
    "id": "vdFO3RGmAit0"
   },
   "source": [
    "tol пришлось уменьшать (по сравнению с тем, что было изначально). Вообще метод уменьшения разницы MSE не всегда хороший. Теперь добавим l1-регуляризацию (вообще я понял, что можно было делать одну ячейку с классом сразу с регуляризацией, просто в обычном случае подавать 0, но уже поздно что-то менять)"
   ]
  },
  {
   "cell_type": "code",
   "execution_count": 66,
   "metadata": {
    "colab": {
     "base_uri": "https://localhost:8080/"
    },
    "id": "MYFAmkE8hAmK",
    "outputId": "a88a342c-3fc7-43ff-8007-b5980e54e12c"
   },
   "outputs": [
    {
     "name": "stdout",
     "output_type": "stream",
     "text": [
      "0.0002693485400203715\n",
      "You are amazing! Great work!\n"
     ]
    }
   ],
   "source": [
    "def sgn(w):\n",
    "  return np.array([np.sign(w[i]) for i in range(w.shape[0])])\n",
    "\n",
    "\n",
    "class LinearRegression(object):\n",
    "    def __init__(self, alpha=0.0001, l_ratio=0.01, tol=0.00001, max_iter=1000):\n",
    "      self.alpha = alpha\n",
    "      self.l_ratio = l_ratio\n",
    "      self.tol = tol\n",
    "      self.max_iter = max_iter\n",
    "      self.w = None\n",
    "   \n",
    "    def fit(self, X, y):\n",
    "      n = X.shape[1]\n",
    "      v = np.array([10**20 for _ in range(X.shape[1])])\n",
    "      w = np.array([random.random() for _ in range(X.shape[1])])\n",
    "      iter = 0\n",
    "      while (abs(mean_squared_error(X.dot(w), y) - mean_squared_error(X.dot(v),y)) > self.tol and iter <= self.max_iter):\n",
    "        grad = 2/n*(X.T.dot(X.dot(w) - y)) + self.l_ratio*sgn(w)\n",
    "        w, v = w - grad * self.alpha, w\n",
    "        iter += 1\n",
    "      #print(iter)\n",
    "      self.w = w\n",
    "\n",
    "    def coef_(self):\n",
    "      return self.w\n",
    "    \n",
    "    def predict(self, X):\n",
    "        return np.dot(self.w, X.T)\n",
    "\n",
    "    def MSE(self, X, y):\n",
    "      return mean_squared_error(self.predict(X), y)\n",
    "\n",
    "my_reg = LinearRegression()\n",
    "my_reg.fit(X, y)\n",
    "\n",
    "\n",
    "print(mean_squared_error(y, my_reg.predict(X)))\n",
    "\n",
    "assert mean_squared_error(y, my_reg.predict(X)) < 1e-3\n",
    "print('You are amazing! Great work!')\n"
   ]
  },
  {
   "cell_type": "markdown",
   "metadata": {
    "id": "IVM9E6WxiheR"
   },
   "source": [
    "Вобще с регуляризацией вышло чуть хуже, причины те же"
   ]
  },
  {
   "cell_type": "code",
   "execution_count": 67,
   "metadata": {
    "colab": {
     "base_uri": "https://localhost:8080/"
    },
    "id": "RvlluFezbTzR",
    "outputId": "6bbad784-a7cb-406d-9239-06a1bb47815b"
   },
   "outputs": [
    {
     "name": "stdout",
     "output_type": "stream",
     "text": [
      "0.0009942742167419684\n"
     ]
    }
   ],
   "source": [
    "from sklearn.linear_model import Lasso\n",
    "regr = Lasso(alpha = 0.01).fit(X, y)\n",
    "print(mean_squared_error(y, regr.predict(X)))\n"
   ]
  },
  {
   "cell_type": "markdown",
   "metadata": {
    "id": "4WYZFUdZD-mj"
   },
   "source": [
    "Вообще немного странно, что MSE стал больше, чем у нас, но возможно дело в том, что внутри l1 реализован хорошо (и там другие критерии остановки), отсюда регуляризация проявляется сильнее"
   ]
  },
  {
   "cell_type": "code",
   "execution_count": 68,
   "metadata": {
    "colab": {
     "base_uri": "https://localhost:8080/"
    },
    "id": "76zSpT5CCX4a",
    "outputId": "c404701d-3e6c-48af-8e88-b13af5f88f0b"
   },
   "outputs": [
    {
     "name": "stdout",
     "output_type": "stream",
     "text": [
      "[ 1  1 -1]\n"
     ]
    }
   ],
   "source": []
  },
  {
   "cell_type": "code",
   "execution_count": 68,
   "metadata": {
    "id": "2vvHHqCACaGB"
   },
   "outputs": [],
   "source": []
  }
 ],
 "metadata": {
  "colab": {
   "provenance": []
  },
  "kernelspec": {
   "display_name": "Python 3 (ipykernel)",
   "language": "python",
   "name": "python3"
  },
  "language_info": {
   "codemirror_mode": {
    "name": "ipython",
    "version": 3
   },
   "file_extension": ".py",
   "mimetype": "text/x-python",
   "name": "python",
   "nbconvert_exporter": "python",
   "pygments_lexer": "ipython3",
   "version": "3.9.13"
  }
 },
 "nbformat": 4,
 "nbformat_minor": 4
}

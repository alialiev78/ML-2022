{
  "nbformat": 4,
  "nbformat_minor": 0,
  "metadata": {
    "colab": {
      "provenance": []
    },
    "kernelspec": {
      "name": "python3",
      "display_name": "Python 3"
    },
    "language_info": {
      "name": "python"
    }
  },
  "cells": [
    {
      "cell_type": "code",
      "source": [
        "!pip install telebot"
      ],
      "metadata": {
        "colab": {
          "base_uri": "https://localhost:8080/"
        },
        "id": "dpqgDyY7ZvDV",
        "outputId": "d9e7cc0d-bb8a-4494-e55e-8e996917169f"
      },
      "execution_count": null,
      "outputs": [
        {
          "output_type": "stream",
          "name": "stdout",
          "text": [
            "Looking in indexes: https://pypi.org/simple, https://us-python.pkg.dev/colab-wheels/public/simple/\n",
            "Collecting telebot\n",
            "  Downloading telebot-0.0.5-py3-none-any.whl (4.8 kB)\n",
            "Collecting pyTelegramBotAPI (from telebot)\n",
            "  Downloading pyTelegramBotAPI-4.11.0.tar.gz (230 kB)\n",
            "\u001b[2K     \u001b[90m━━━━━━━━━━━━━━━━━━━━━━━━━━━━━━━━━━━━━━━\u001b[0m \u001b[32m230.4/230.4 kB\u001b[0m \u001b[31m4.1 MB/s\u001b[0m eta \u001b[36m0:00:00\u001b[0m\n",
            "\u001b[?25h  Preparing metadata (setup.py) ... \u001b[?25l\u001b[?25hdone\n",
            "Requirement already satisfied: requests in /usr/local/lib/python3.10/dist-packages (from telebot) (2.27.1)\n",
            "Requirement already satisfied: urllib3<1.27,>=1.21.1 in /usr/local/lib/python3.10/dist-packages (from requests->telebot) (1.26.15)\n",
            "Requirement already satisfied: certifi>=2017.4.17 in /usr/local/lib/python3.10/dist-packages (from requests->telebot) (2022.12.7)\n",
            "Requirement already satisfied: charset-normalizer~=2.0.0 in /usr/local/lib/python3.10/dist-packages (from requests->telebot) (2.0.12)\n",
            "Requirement already satisfied: idna<4,>=2.5 in /usr/local/lib/python3.10/dist-packages (from requests->telebot) (3.4)\n",
            "Building wheels for collected packages: pyTelegramBotAPI\n",
            "  Building wheel for pyTelegramBotAPI (setup.py) ... \u001b[?25l\u001b[?25hdone\n",
            "  Created wheel for pyTelegramBotAPI: filename=pyTelegramBotAPI-4.11.0-py3-none-any.whl size=212386 sha256=90f4e9f5be4c83a340abc79b7482f0adcea95de2ae1e094d9106b6c4d856a449\n",
            "  Stored in directory: /root/.cache/pip/wheels/ee/54/14/73e9f99d3a4c02df8d106566f93bd29d41ab7f3915cc13a23d\n",
            "Successfully built pyTelegramBotAPI\n",
            "Installing collected packages: pyTelegramBotAPI, telebot\n",
            "Successfully installed pyTelegramBotAPI-4.11.0 telebot-0.0.5\n"
          ]
        }
      ]
    },
    {
      "cell_type": "code",
      "execution_count": null,
      "metadata": {
        "colab": {
          "base_uri": "https://localhost:8080/"
        },
        "id": "RrA9Tlh9Zljm",
        "outputId": "f2ee61c4-a822-40ad-c753-3d3e63925cc6"
      },
      "outputs": [
        {
          "output_type": "stream",
          "name": "stderr",
          "text": [
            "2023-05-10 23:05:44,968 (__init__.py:966 MainThread) ERROR - TeleBot: \"Infinity polling: polling exited\"\n",
            "ERROR:TeleBot:Infinity polling: polling exited\n",
            "2023-05-10 23:05:44,973 (__init__.py:968 MainThread) ERROR - TeleBot: \"Break infinity polling\"\n",
            "ERROR:TeleBot:Break infinity polling\n"
          ]
        }
      ],
      "source": [
        "import telebot\n",
        "\n",
        "token = '5990031266:AAHgYAjb5H4jXQpjp9hUE1KybjD1Pb02xKY'\n",
        "bot = telebot.TeleBot(token)\n",
        "\n",
        "@bot.message_handler(commands=['start'])\n",
        "def start_message(message):\n",
        "    bot.send_message(message.chat.id, 'Привет, я FootballPlayersBot. Я создан для предсказывания стоимости футбольных игроков.')\n",
        "bot.infinity_polling()"
      ]
    },
    {
      "cell_type": "code",
      "source": [
        "import requests\n",
        "from bs4 import BeautifulSoup\n",
        "import pandas as pd"
      ],
      "metadata": {
        "id": "MsIMrjIEg1U9"
      },
      "execution_count": null,
      "outputs": []
    },
    {
      "cell_type": "code",
      "source": [
        "headers = {'User-Agent':\n",
        "           'Mozilla/5.0 (X11; Linux x86_64) AppleWebKit/537.36 (KHTML, like Gecko) Chrome/47.0.2526.106 Safari/537.36'}"
      ],
      "metadata": {
        "id": "GjUJTL47Zp-L"
      },
      "execution_count": null,
      "outputs": []
    },
    {
      "cell_type": "code",
      "source": [
        "page = \"https://www.transfermarkt.co.uk/schnellsuche/ergebnis/schnellsuche?query=mbape\"\n",
        "pageTree = requests.get(page, headers=headers)\n",
        "pageSoup = BeautifulSoup(pageTree.content, 'html.parser')"
      ],
      "metadata": {
        "id": "D1nJShS2g5-y"
      },
      "execution_count": null,
      "outputs": []
    },
    {
      "cell_type": "code",
      "source": [
        "market_value = pageSoup.find_all(\"div\", {\"class\": \"grid__cell grid__cell--center tm-player-transfer-history-grid__market-value\"})\n",
        "market_value = [' '.join(market_value[i].text.split()) for i in range(len(market_value))]"
      ],
      "metadata": {
        "id": "z58BCK_KhD8n"
      },
      "execution_count": null,
      "outputs": []
    },
    {
      "cell_type": "code",
      "source": [
        "market_value"
      ],
      "metadata": {
        "colab": {
          "base_uri": "https://localhost:8080/"
        },
        "id": "pUScMjOzhLKD",
        "outputId": "07695f77-d815-4ef9-c6aa-5bf976273db1"
      },
      "execution_count": null,
      "outputs": [
        {
          "output_type": "execute_result",
          "data": {
            "text/plain": [
              "[]"
            ]
          },
          "metadata": {},
          "execution_count": 7
        }
      ]
    },
    {
      "cell_type": "code",
      "source": [
        "#No result - Transfermarkt"
      ],
      "metadata": {
        "id": "c7sUoPzjhMhr"
      },
      "execution_count": null,
      "outputs": []
    },
    {
      "cell_type": "code",
      "source": [
        "#pageSoup"
      ],
      "metadata": {
        "id": "ZhGLXxXojLTk"
      },
      "execution_count": null,
      "outputs": []
    },
    {
      "cell_type": "code",
      "source": [
        "element = pageSoup.find_all('title')"
      ],
      "metadata": {
        "id": "K-bPxJHqjNDp"
      },
      "execution_count": null,
      "outputs": []
    },
    {
      "cell_type": "code",
      "source": [
        "element"
      ],
      "metadata": {
        "colab": {
          "base_uri": "https://localhost:8080/"
        },
        "id": "e1YFSrQNkwBU",
        "outputId": "cdbcc31f-d1e9-4755-8311-5505041de7e8"
      },
      "execution_count": null,
      "outputs": [
        {
          "output_type": "execute_result",
          "data": {
            "text/plain": [
              "[<title>Search result | Transfermarkt</title>]"
            ]
          },
          "metadata": {},
          "execution_count": 11
        }
      ]
    },
    {
      "cell_type": "code",
      "source": [
        "str(element[0])"
      ],
      "metadata": {
        "colab": {
          "base_uri": "https://localhost:8080/",
          "height": 35
        },
        "id": "8TDedx3glkPd",
        "outputId": "4bedd32b-1977-4525-d82c-01842f91cc2c"
      },
      "execution_count": null,
      "outputs": [
        {
          "output_type": "execute_result",
          "data": {
            "text/plain": [
              "'<title>Search result | Transfermarkt</title>'"
            ],
            "application/vnd.google.colaboratory.intrinsic+json": {
              "type": "string"
            }
          },
          "metadata": {},
          "execution_count": 12
        }
      ]
    },
    {
      "cell_type": "code",
      "source": [
        "print(str(element[0]).find('No result - Transfermarkt'))"
      ],
      "metadata": {
        "colab": {
          "base_uri": "https://localhost:8080/"
        },
        "id": "5KOrIpzpkx-9",
        "outputId": "95dc2f51-1356-4c51-e74e-d09ea32e2202"
      },
      "execution_count": null,
      "outputs": [
        {
          "output_type": "stream",
          "name": "stdout",
          "text": [
            "-1\n"
          ]
        }
      ]
    },
    {
      "cell_type": "code",
      "source": [
        "print(str(element[0]).find('яяяяяяя'))"
      ],
      "metadata": {
        "colab": {
          "base_uri": "https://localhost:8080/"
        },
        "id": "KldPj7hNlJn6",
        "outputId": "5954bd83-d6f3-4162-8c69-50ab2fcb7b70"
      },
      "execution_count": null,
      "outputs": [
        {
          "output_type": "stream",
          "name": "stdout",
          "text": [
            "-1\n"
          ]
        }
      ]
    },
    {
      "cell_type": "code",
      "source": [
        "def no_results(page):\n",
        "  pageTree = requests.get(page, headers=headers)\n",
        "  pageSoup = BeautifulSoup(pageTree.content, 'html.parser')\n",
        "  element = pageSoup.find_all('title')\n",
        "  if str(element[0]).find('No result - Transfermarkt') != -1:\n",
        "    return 'No results'\n",
        "  else:\n",
        "    return 'We have some results'\n",
        "\n",
        "\n",
        "print(no_results(\"https://www.transfermarkt.co.uk/schnellsuche/ergebnis/schnellsuche?query=mbape\"))\n",
        "print(no_results(\"https://www.transfermarkt.co.uk/schnellsuche/ergebnis/schnellsuche?query=zzzzzz\"))"
      ],
      "metadata": {
        "colab": {
          "base_uri": "https://localhost:8080/"
        },
        "id": "NbnDvyhzlw-j",
        "outputId": "84c1241a-afc8-474e-ade5-fc54c8573699"
      },
      "execution_count": null,
      "outputs": [
        {
          "output_type": "stream",
          "name": "stdout",
          "text": [
            "We have some results\n",
            "No results\n"
          ]
        }
      ]
    },
    {
      "cell_type": "code",
      "source": [
        "#<div class=\"summary\">"
      ],
      "metadata": {
        "id": "uwnCdxvXneMB"
      },
      "execution_count": null,
      "outputs": []
    },
    {
      "cell_type": "code",
      "source": [
        "page = \"https://www.transfermarkt.co.uk/schnellsuche/ergebnis/schnellsuche?query=mbappe\"\n",
        "pageTree = requests.get(page, headers=headers)\n",
        "pageSoup = BeautifulSoup(pageTree.content, 'html.parser')"
      ],
      "metadata": {
        "id": "0pEMscNJpEuq"
      },
      "execution_count": null,
      "outputs": []
    },
    {
      "cell_type": "code",
      "source": [
        "all_players = pageSoup.find_all(\"table\", class_='inline-table')"
      ],
      "metadata": {
        "id": "OjyVRyaqTcW0"
      },
      "execution_count": null,
      "outputs": []
    },
    {
      "cell_type": "code",
      "source": [
        "all_players"
      ],
      "metadata": {
        "colab": {
          "base_uri": "https://localhost:8080/"
        },
        "id": "USA-YyGmTii9",
        "outputId": "80597f75-cf96-4a25-815e-aa963b71606d"
      },
      "execution_count": null,
      "outputs": [
        {
          "output_type": "execute_result",
          "data": {
            "text/plain": [
              "[<table class=\"inline-table\"><tr><td rowspan=\"2\"><a href=\"#\"><img alt=\"Kylian Mbappé\" class=\"bilderrahmen-fixed\" src=\"https://img.a.transfermarkt.technology/portrait/small/342229-1682683695.jpg?lm=1\" title=\"Kylian Mbappé\"/></a></td><td class=\"hauptlink\"><a href=\"/kylian-mbappe/profil/spieler/342229\" title=\"Kylian Mbappé\">Kylian Mbappé</a></td></tr><tr><td><a href=\"/fc-paris-saint-germain/startseite/verein/583\" title=\"Paris Saint-Germain\">Paris Saint-Germain</a></td></tr></table>,\n",
              " <table class=\"inline-table\"><tr><td rowspan=\"2\"><a href=\"#\"><img alt=\"Yves-Stephane Mbappe\" class=\"bilderrahmen-fixed\" src=\"https://img.a.transfermarkt.technology/portrait/small/default.jpg?lm=1\" title=\"Yves-Stephane Mbappe\"/></a></td><td class=\"hauptlink\"><a href=\"/yves-stephane-mbappe/profil/spieler/125864\" title=\"Yves-Stephane Mbappe\">Yves-Stephane Mbappe</a></td></tr><tr><td><a href=\"/tus-querenburg/startseite/verein/35003\" title=\"TuS Querenburg\">TuS Querenburg</a></td></tr></table>,\n",
              " <table class=\"inline-table\"><tr><td rowspan=\"2\"><a href=\"#\"><img alt=\"Samuel Mbappé Leppé\" class=\"bilderrahmen-fixed\" src=\"https://img.a.transfermarkt.technology/portrait/small/default.jpg?lm=1\" title=\"Samuel Mbappé Leppé\"/></a></td><td class=\"hauptlink\"><a href=\"/samuel-mbappe-leppe/profil/spieler/762333\" title=\"Samuel Mbappé Leppé\">Samuel Mbappé Leppé</a></td></tr><tr><td><a href=\"/-tm/startseite/verein/4023\" title=\"---\">---</a></td></tr></table>,\n",
              " <table class=\"inline-table\"><tr><td rowspan=\"2\"><a href=\"#\"><img alt=\"Muller Mbappe\" class=\"bilderrahmen-fixed\" src=\"https://img.a.transfermarkt.technology/portrait/small/default.jpg?lm=1\" title=\"Muller Mbappe\"/></a></td><td class=\"hauptlink\"><a href=\"/muller-mbappe/profil/spieler/779314\" title=\"Muller Mbappe\">Muller Mbappe</a></td></tr><tr><td><a href=\"/bamboutos-fc/startseite/verein/37585\" title=\"Bamboutos FC\">Bamboutos FC</a></td></tr></table>,\n",
              " <table class=\"inline-table\"><tr><td rowspan=\"2\"><a href=\"#\"><img alt=\"Ethan Mbappé\" class=\"bilderrahmen-fixed\" src=\"https://img.a.transfermarkt.technology/portrait/small/903666-1628749613.jpg?lm=1\" title=\"Ethan Mbappé\"/></a></td><td class=\"hauptlink\"><a href=\"/ethan-mbappe/profil/spieler/903666\" title=\"Ethan Mbappé\">Ethan Mbappé</a></td></tr><tr><td><a href=\"/fc-paris-saint-germain-u19/startseite/verein/6326\" title=\"Paris Saint-Germain U19\">Paris Saint-Germain U19</a></td></tr></table>,\n",
              " <table class=\"inline-table\"><tr><td rowspan=\"2\"><a href=\"#\"><img alt=\"Pierre Mbappé\" class=\"bilderrahmen-fixed\" src=\"https://img.a.transfermarkt.technology/portrait/small/default.jpg?lm=1\" title=\"Pierre Mbappé\"/></a></td><td class=\"hauptlink\"><a href=\"/pierre-mbappe/profil/trainer/24749\" id=\"0\" title=\"Pierre Mbappé\">Pierre Mbappé</a></td></tr><tr><td><a href=\"/us-ivry/startseite/verein/5659\" title=\"US Ivry Football\">US Ivry Football</a></td></tr></table>,\n",
              " <table &=\"\" class=\"inline-table\" consulting=\"\" ltd=\"\" management=\"\" sports=\"\" title=\"Ely\">\n",
              " <tr>\n",
              " <td rowspan=\"2\">\n",
              " <a href=\"/berater/beraterfirma?id=6240\"><img alt=\"-\" class=\"berater-logorahmen\" src=\"https://tmssl.akamaized.net/images/berater_logo/small/berater-default.png?lm=1520606995\" title=\"Ely sports consulting &amp; management Ltd\"/></a>\n",
              " </td>\n",
              " <td class=\"hauptlink\"><a href=\"/ely-sports-consulting-amp-management-ltd/beraterfirma/berater/6240\">Ely sports consulting &amp; management Ltd</a></td></tr>\n",
              " </table>]"
            ]
          },
          "metadata": {},
          "execution_count": 29
        }
      ]
    },
    {
      "cell_type": "code",
      "source": [
        "players = pageSoup.find(\"table\", class_='inline-table').find('td', class_ = \"hauptlink\")"
      ],
      "metadata": {
        "id": "PlfgaMUWozTB"
      },
      "execution_count": null,
      "outputs": []
    },
    {
      "cell_type": "code",
      "source": [
        "print(players.text)"
      ],
      "metadata": {
        "colab": {
          "base_uri": "https://localhost:8080/"
        },
        "id": "pn_F86WepQHI",
        "outputId": "7a64949b-fb8b-469a-9c8a-aea090ebfe8c"
      },
      "execution_count": null,
      "outputs": [
        {
          "output_type": "stream",
          "name": "stdout",
          "text": [
            "Kylian Mbappé\n"
          ]
        }
      ]
    },
    {
      "cell_type": "code",
      "source": [
        "print(pageSoup.find(\"table\", class_='inline-table').find('td', class_ = \"hauptlink\").text)"
      ],
      "metadata": {
        "colab": {
          "base_uri": "https://localhost:8080/"
        },
        "id": "EaISEk3Fapd-",
        "outputId": "fdea20ca-1043-480f-e860-d44acd0c4d70"
      },
      "execution_count": null,
      "outputs": [
        {
          "output_type": "stream",
          "name": "stdout",
          "text": [
            "Kylian Mbappé\n"
          ]
        }
      ]
    },
    {
      "cell_type": "markdown",
      "source": [],
      "metadata": {
        "id": "z750WcV5RMx6"
      }
    },
    {
      "cell_type": "code",
      "source": [
        "tmp = []\n",
        "for i in all_players:\n",
        "  print(i)\n",
        "  name = i.find('td', class_ = \"hauptlink\").text\n",
        "  link = i.find('td', class_ = \"hauptlink\").find('a').get('href')\n",
        "  tmp.append(tuple([name, link]))"
      ],
      "metadata": {
        "id": "FPaQxWjipTCW",
        "colab": {
          "base_uri": "https://localhost:8080/"
        },
        "outputId": "621fefe5-2005-4ff4-c24c-f6461108616d"
      },
      "execution_count": null,
      "outputs": [
        {
          "output_type": "stream",
          "name": "stdout",
          "text": [
            "<table class=\"inline-table\"><tr><td rowspan=\"2\"><a href=\"#\"><img alt=\"Kylian Mbappé\" class=\"bilderrahmen-fixed\" src=\"https://img.a.transfermarkt.technology/portrait/small/342229-1682683695.jpg?lm=1\" title=\"Kylian Mbappé\"/></a></td><td class=\"hauptlink\"><a href=\"/kylian-mbappe/profil/spieler/342229\" title=\"Kylian Mbappé\">Kylian Mbappé</a></td></tr><tr><td><a href=\"/fc-paris-saint-germain/startseite/verein/583\" title=\"Paris Saint-Germain\">Paris Saint-Germain</a></td></tr></table>\n",
            "<table class=\"inline-table\"><tr><td rowspan=\"2\"><a href=\"#\"><img alt=\"Yves-Stephane Mbappe\" class=\"bilderrahmen-fixed\" src=\"https://img.a.transfermarkt.technology/portrait/small/default.jpg?lm=1\" title=\"Yves-Stephane Mbappe\"/></a></td><td class=\"hauptlink\"><a href=\"/yves-stephane-mbappe/profil/spieler/125864\" title=\"Yves-Stephane Mbappe\">Yves-Stephane Mbappe</a></td></tr><tr><td><a href=\"/tus-querenburg/startseite/verein/35003\" title=\"TuS Querenburg\">TuS Querenburg</a></td></tr></table>\n",
            "<table class=\"inline-table\"><tr><td rowspan=\"2\"><a href=\"#\"><img alt=\"Samuel Mbappé Leppé\" class=\"bilderrahmen-fixed\" src=\"https://img.a.transfermarkt.technology/portrait/small/default.jpg?lm=1\" title=\"Samuel Mbappé Leppé\"/></a></td><td class=\"hauptlink\"><a href=\"/samuel-mbappe-leppe/profil/spieler/762333\" title=\"Samuel Mbappé Leppé\">Samuel Mbappé Leppé</a></td></tr><tr><td><a href=\"/-tm/startseite/verein/4023\" title=\"---\">---</a></td></tr></table>\n",
            "<table class=\"inline-table\"><tr><td rowspan=\"2\"><a href=\"#\"><img alt=\"Muller Mbappe\" class=\"bilderrahmen-fixed\" src=\"https://img.a.transfermarkt.technology/portrait/small/default.jpg?lm=1\" title=\"Muller Mbappe\"/></a></td><td class=\"hauptlink\"><a href=\"/muller-mbappe/profil/spieler/779314\" title=\"Muller Mbappe\">Muller Mbappe</a></td></tr><tr><td><a href=\"/bamboutos-fc/startseite/verein/37585\" title=\"Bamboutos FC\">Bamboutos FC</a></td></tr></table>\n",
            "<table class=\"inline-table\"><tr><td rowspan=\"2\"><a href=\"#\"><img alt=\"Ethan Mbappé\" class=\"bilderrahmen-fixed\" src=\"https://img.a.transfermarkt.technology/portrait/small/903666-1628749613.jpg?lm=1\" title=\"Ethan Mbappé\"/></a></td><td class=\"hauptlink\"><a href=\"/ethan-mbappe/profil/spieler/903666\" title=\"Ethan Mbappé\">Ethan Mbappé</a></td></tr><tr><td><a href=\"/fc-paris-saint-germain-u19/startseite/verein/6326\" title=\"Paris Saint-Germain U19\">Paris Saint-Germain U19</a></td></tr></table>\n",
            "<table class=\"inline-table\"><tr><td rowspan=\"2\"><a href=\"#\"><img alt=\"Pierre Mbappé\" class=\"bilderrahmen-fixed\" src=\"https://img.a.transfermarkt.technology/portrait/small/default.jpg?lm=1\" title=\"Pierre Mbappé\"/></a></td><td class=\"hauptlink\"><a href=\"/pierre-mbappe/profil/trainer/24749\" id=\"0\" title=\"Pierre Mbappé\">Pierre Mbappé</a></td></tr><tr><td><a href=\"/us-ivry/startseite/verein/5659\" title=\"US Ivry Football\">US Ivry Football</a></td></tr></table>\n",
            "<table &=\"\" class=\"inline-table\" consulting=\"\" ltd=\"\" management=\"\" sports=\"\" title=\"Ely\">\n",
            "<tr>\n",
            "<td rowspan=\"2\">\n",
            "<a href=\"/berater/beraterfirma?id=6240\"><img alt=\"-\" class=\"berater-logorahmen\" src=\"https://tmssl.akamaized.net/images/berater_logo/small/berater-default.png?lm=1520606995\" title=\"Ely sports consulting &amp; management Ltd\"/></a>\n",
            "</td>\n",
            "<td class=\"hauptlink\"><a href=\"/ely-sports-consulting-amp-management-ltd/beraterfirma/berater/6240\">Ely sports consulting &amp; management Ltd</a></td></tr>\n",
            "</table>\n"
          ]
        }
      ]
    },
    {
      "cell_type": "code",
      "source": [
        "tmp"
      ],
      "metadata": {
        "colab": {
          "base_uri": "https://localhost:8080/"
        },
        "id": "YuUyXO8IruUi",
        "outputId": "1b891620-b9b1-48b8-96e2-723491c85f93"
      },
      "execution_count": null,
      "outputs": [
        {
          "output_type": "execute_result",
          "data": {
            "text/plain": [
              "[('Kylian Mbappé', '/kylian-mbappe/profil/spieler/342229'),\n",
              " ('Yves-Stephane Mbappe', '/yves-stephane-mbappe/profil/spieler/125864'),\n",
              " ('Samuel Mbappé Leppé', '/samuel-mbappe-leppe/profil/spieler/762333'),\n",
              " ('Muller Mbappe', '/muller-mbappe/profil/spieler/779314'),\n",
              " ('Ethan Mbappé', '/ethan-mbappe/profil/spieler/903666'),\n",
              " ('Pierre Mbappé', '/pierre-mbappe/profil/trainer/24749'),\n",
              " ('Ely sports consulting & management Ltd',\n",
              "  '/ely-sports-consulting-amp-management-ltd/beraterfirma/berater/6240')]"
            ]
          },
          "metadata": {},
          "execution_count": 46
        }
      ]
    },
    {
      "cell_type": "code",
      "source": [
        "url = 'https://www.transfermarkt.co.uk/'\n",
        "players_arr = []\n",
        "for i in range(len(tmp)):\n",
        "  if str(tmp[i][1]).find('spieler') != -1:\n",
        "    players_arr.append(tmp[i])"
      ],
      "metadata": {
        "id": "Y0mXLrPQT-gI"
      },
      "execution_count": null,
      "outputs": []
    },
    {
      "cell_type": "code",
      "source": [
        "players_arr"
      ],
      "metadata": {
        "colab": {
          "base_uri": "https://localhost:8080/"
        },
        "id": "XD1uV6xJ9cL_",
        "outputId": "4a2f71b9-f35d-4c3a-b3b0-88cdf21764d8"
      },
      "execution_count": null,
      "outputs": [
        {
          "output_type": "execute_result",
          "data": {
            "text/plain": [
              "[('Kylian Mbappé', '/kylian-mbappe/profil/spieler/342229'),\n",
              " ('Yves-Stephane Mbappe', '/yves-stephane-mbappe/profil/spieler/125864'),\n",
              " ('Samuel Mbappé Leppé', '/samuel-mbappe-leppe/profil/spieler/762333'),\n",
              " ('Muller Mbappe', '/muller-mbappe/profil/spieler/779314'),\n",
              " ('Ethan Mbappé', '/ethan-mbappe/profil/spieler/903666')]"
            ]
          },
          "metadata": {},
          "execution_count": 48
        }
      ]
    },
    {
      "cell_type": "code",
      "source": [
        "page = 'https://www.transfermarkt.co.uk/ajmal-pa/profil/spieler/567802'\n",
        "pageTree = requests.get(page, headers=headers)\n",
        "pageSoup = BeautifulSoup(pageTree.content, 'html.parser')"
      ],
      "metadata": {
        "id": "y_iBBZy29dMe"
      },
      "execution_count": null,
      "outputs": []
    },
    {
      "cell_type": "code",
      "source": [
        "price = pageSoup.find_all(\"table\", class_='inline-table')"
      ],
      "metadata": {
        "id": "VMjOVhCBACWY"
      },
      "execution_count": null,
      "outputs": []
    },
    {
      "cell_type": "markdown",
      "source": [
        "**Нормальная функция**"
      ],
      "metadata": {
        "id": "O2xSAUnfQ6-G"
      }
    },
    {
      "cell_type": "code",
      "source": [
        "import requests\n",
        "from bs4 import BeautifulSoup\n",
        "import pandas as pd"
      ],
      "metadata": {
        "id": "7eDEwenXQ_DD"
      },
      "execution_count": null,
      "outputs": []
    },
    {
      "cell_type": "code",
      "source": [
        "headers = {'User-Agent':\n",
        "           'Mozilla/5.0 (X11; Linux x86_64) AppleWebKit/537.36 (KHTML, like Gecko) Chrome/47.0.2526.106 Safari/537.36'}"
      ],
      "metadata": {
        "id": "2DPGdOR0REld"
      },
      "execution_count": null,
      "outputs": []
    },
    {
      "cell_type": "code",
      "source": [
        "page = \"https://www.transfermarkt.co.uk/schnellsuche/ergebnis/schnellsuche?query=mbape\"\n",
        "pageTree = requests.get(page, headers=headers)\n",
        "pageSoup = BeautifulSoup(pageTree.content, 'html.parser')"
      ],
      "metadata": {
        "id": "VXicvkD6RFDb"
      },
      "execution_count": null,
      "outputs": []
    },
    {
      "cell_type": "code",
      "source": [
        "market_value = pageSoup.find_all(\"div\", {\"class\": \"grid__cell grid__cell--center tm-player-transfer-history-grid__market-value\"})\n",
        "market_value = [' '.join(market_value[i].text.split()) for i in range(len(market_value))]"
      ],
      "metadata": {
        "id": "Bk6nCNnQRIXo"
      },
      "execution_count": null,
      "outputs": []
    },
    {
      "cell_type": "code",
      "source": [
        "def no_results(page):\n",
        "  pageTree = requests.get(page, headers=headers)\n",
        "  pageSoup = BeautifulSoup(pageTree.content, 'html.parser')\n",
        "  element = pageSoup.find_all('title')\n",
        "  if str(element[0]).find('No result - Transfermarkt') != -1:\n",
        "    return 'No results'\n",
        "  else:\n",
        "    return 'We have some results'\n"
      ],
      "metadata": {
        "id": "SBPpKiyPRYoa"
      },
      "execution_count": null,
      "outputs": []
    },
    {
      "cell_type": "code",
      "source": [
        "\n",
        "print(no_results(\"https://www.transfermarkt.co.uk/schnellsuche/ergebnis/schnellsuche?query=mbape\"))\n",
        "print(no_results(\"https://www.transfermarkt.co.uk/schnellsuche/ergebnis/schnellsuche?query=zzzzzz\"))"
      ],
      "metadata": {
        "colab": {
          "base_uri": "https://localhost:8080/"
        },
        "id": "lcB46x4TRc2I",
        "outputId": "19703b10-9569-4556-b54c-70f83a995d11"
      },
      "execution_count": null,
      "outputs": [
        {
          "output_type": "stream",
          "name": "stdout",
          "text": [
            "We have some results\n",
            "No results\n"
          ]
        }
      ]
    },
    {
      "cell_type": "code",
      "source": [
        "def players_search(page):\n",
        "  pageTree = requests.get(page, headers=headers)\n",
        "  pageSoup = BeautifulSoup(pageTree.content, 'html.parser')\n",
        "  element = pageSoup.find_all('title')\n",
        "  if str(element[0]).find('No result - Transfermarkt') != -1:\n",
        "    return 'No results'\n",
        "  else:\n",
        "    all_players = pageSoup.find_all(\"table\", class_='inline-table')\n",
        "    tmp = []\n",
        "    for i in all_players:\n",
        "      name = i.find('td', class_ = \"hauptlink\").text\n",
        "      link = i.find('td', class_ = \"hauptlink\").find('a').get('href')\n",
        "      tmp.append(tuple([name, link]))\n",
        "    #print(tmp)\n",
        "    players_arr = []\n",
        "    for i in range(len(tmp)):\n",
        "      if str(tmp[i][1]).find('spieler') != -1:\n",
        "        players_arr.append(tmp[i][0])\n",
        "    #print(players_arr)\n",
        "    if len(players_arr) == 0:\n",
        "      return 'No results'\n",
        "    elif 0 <len(players_arr)<5:\n",
        "      return players_arr\n",
        "    else:\n",
        "      return players_arr[:5]\n",
        "\n",
        "print(players_search('https://www.transfermarkt.co.uk/schnellsuche/ergebnis/schnellsuche?query=ppppp'))\n",
        "print(players_search('https://www.transfermarkt.co.uk/schnellsuche/ergebnis/schnellsuche?query=muller'))\n",
        "print(players_search('https://www.transfermarkt.co.uk/schnellsuche/ergebnis/schnellsuche?query=mbappe'))\n",
        "print(players_search('https://www.transfermarkt.co.uk/schnellsuche/ergebnis/schnellsuche?query=pa'))"
      ],
      "metadata": {
        "colab": {
          "base_uri": "https://localhost:8080/"
        },
        "id": "G__3_kO0Rfeg",
        "outputId": "9300df5e-0b97-4988-e5e9-61bb87651e12"
      },
      "execution_count": null,
      "outputs": [
        {
          "output_type": "stream",
          "name": "stdout",
          "text": [
            "No results\n",
            "['Thomas Müller', 'Gerd Müller', 'Patrick Müller', 'Hansi Müller', 'Florian Müller']\n",
            "['Kylian Mbappé', 'Yves-Stephane Mbappe', 'Samuel Mbappé Leppé', 'Muller Mbappe', 'Ethan Mbappé']\n",
            "['Ajmal Pa', 'Giri Leh Htoo Ah Pa', 'Abijith PA']\n"
          ]
        }
      ]
    },
    {
      "cell_type": "code",
      "source": [
        "def players_info(page):\n",
        "  #info = pd.DataFrame(columns=['date_of_birth','place_of_birth','age','height','citizenship','position', 'foot'])\n",
        "  #info = []\n",
        "  headers = {'User-Agent':\n",
        "            'Mozilla/5.0 (X11; Linux x86_64) AppleWebKit/537.36 (KHTML, like Gecko) Chrome/47.0.2526.106 Safari/537.36'}\n",
        "  #page = \"https://www.transfermarkt.co.uk/jumplist/profil/spieler/\" + str(i)\n",
        "  pageTree = requests.get(page, headers=headers)\n",
        "  pageSoup = BeautifulSoup(pageTree.content, 'html.parser')\n",
        "  facts = pageSoup.find_all(\"span\", {\"class\": \"info-table__content info-table__content--bold\"})\n",
        "  while ',' not in ' '.join(facts[0].text.split()) and ' '.join(facts[0].text.split()) != 'N/A' and ' '.join(facts[0].text.split()) != '-' and ' '.join(facts[0].text.split()) != '' and facts.pop(0):\n",
        "      date_of_birth = ' '.join(facts[0].text.split())\n",
        "      place_of_birth = ' '.join(facts[1].text.split())\n",
        "      age = ' '.join(facts[2].text.split())\n",
        "      height = ' '.join(facts[3].text.split())\n",
        "      citizenship = ' '.join(facts[4].text.split())\n",
        "      position = ' '.join(facts[5].text.split())\n",
        "      foot = ' '.join(facts[6].text.split())\n",
        "      info = [date_of_birth, place_of_birth, age, height, citizenship, position, foot]\n",
        "  return info\n",
        "layers_info('https://www.transfermarkt.co.uk/kylian-mbappe/profil/spieler/342229')"
      ],
      "metadata": {
        "id": "iAVteB4dUZ78",
        "colab": {
          "base_uri": "https://localhost:8080/"
        },
        "outputId": "9f066b32-68ac-464c-d743-375100a74203"
      },
      "execution_count": null,
      "outputs": [
        {
          "output_type": "execute_result",
          "data": {
            "text/plain": [
              "['Dec 20, 1998',\n",
              " 'Bondy',\n",
              " '24',\n",
              " '1,78 m',\n",
              " 'France Cameroon',\n",
              " 'Attack - Centre-Forward',\n",
              " 'right']"
            ]
          },
          "metadata": {},
          "execution_count": 19
        }
      ]
    },
    {
      "cell_type": "code",
      "source": [
        "import numpy as np\n",
        "\n",
        "#def  convert_year(year:str):\n",
        "\n",
        "\n",
        "def price_cleaning(market_value):\n",
        "  cleaned_market_value = []\n",
        "  for i in range(len(market_value)):\n",
        "    if market_value[i][-1] == 'm':\n",
        "      cleaned_market_value.append(float(market_value[i][1:-1])*10**6)\n",
        "    elif market_value[i][-1] == 'k':\n",
        "      cleaned_market_value.append(float(market_value[i][1:-1])*10**3)\n",
        "    else:\n",
        "      cleaned_market_value.append(str(market_value[i]))\n",
        "  return cleaned_market_value\n",
        "\n",
        "\n",
        "\n",
        "def players_price(page, year):\n",
        "  try:\n",
        "    headers = {'User-Agent':\n",
        "              'Mozilla/5.0 (X11; Linux x86_64) AppleWebKit/537.36 (KHTML, like Gecko) Chrome/47.0.2526.106 Safari/537.36'}\n",
        "    pageTree = requests.get(page, headers=headers)\n",
        "    pageSoup = BeautifulSoup(pageTree.content, 'html.parser')\n",
        "    seasons = pageSoup.find_all(\"div\", {\"class\": \"grid__cell grid__cell--center tm-player-transfer-history-grid__season\"})\n",
        "    seasons = [' '.join(seasons[i].text.split()) for i in range(len(seasons))]\n",
        "    market_value = pageSoup.find_all(\"div\", {\"class\": \"grid__cell grid__cell--center tm-player-transfer-history-grid__market-value\"})\n",
        "    market_value = [' '.join(market_value[i].text.split()) for i in range(len(market_value))]\n",
        "    cleaned_market_value = price_cleaning(market_value)\n",
        "    tmp = []\n",
        "    for i in range(len(seasons)):\n",
        "      if year ==  str(seasons[i].split('/')[0]):\n",
        "        tmp.append(cleaned_market_value[i])\n",
        "    #print('g',tmp)\n",
        "    if len(set(tmp) - {'-'}) > 0:\n",
        "      return np.array(tmp).mean()\n",
        "    else:\n",
        "      tmp = []\n",
        "      last_index = 'no result'\n",
        "      for i in range(len(seasons)):\n",
        "        if type(cleaned_market_value[i]) == float:\n",
        "          last_index = i\n",
        "          break\n",
        "      if last_index == 'no result':\n",
        "        return 'No results'\n",
        "      else:\n",
        "        last_season = str(seasons[last_index].split('/')[0])\n",
        "        for i in range(len(seasons)):\n",
        "          #print('fff',str(seasons[i].split('/')[0]))\n",
        "          if str(last_season) == str(seasons[i].split('/')[0]) and type(cleaned_market_value[i]) == float:\n",
        "            tmp.append(cleaned_market_value[i])\n",
        "            #print(tmp)\n",
        "        return np.array(tmp).mean()\n",
        "  except:\n",
        "    return 'No results'\n",
        "\n",
        "\n",
        "print(players_price('https://www.transfermarkt.co.uk/kylian-mbappe/profil/spieler/342229','17'))\n",
        "print(players_price('https://www.transfermarkt.co.uk/eduard-orehov/profil/spieler/143698','17'))\n",
        "print(players_price('https://www.transfermarkt.co.uk/aleksandr-orekhov/profil/spieler/673196','18'))\n",
        "print(players_price('https://www.transfermarkt.co.uk/oleksandr-aliyev/profil/spieler/9796','20'))\n",
        "print(players_price('https://www.transfermarkt.co.uk/zoran-baldovaliev/profil/spieler/46108','22'))"
      ],
      "metadata": {
        "id": "4-IAT5u_PWVY",
        "colab": {
          "base_uri": "https://localhost:8080/"
        },
        "outputId": "99cd7698-b6c5-459a-f53c-30300656bb2d"
      },
      "execution_count": null,
      "outputs": [
        {
          "output_type": "stream",
          "name": "stdout",
          "text": [
            "77500000.0\n",
            "25000.0\n",
            "No results\n",
            "800000.0\n",
            "100000.0\n"
          ]
        }
      ]
    },
    {
      "cell_type": "code",
      "source": [
        "np.array([]).mean()"
      ],
      "metadata": {
        "colab": {
          "base_uri": "https://localhost:8080/"
        },
        "id": "mqq_aHWqnpkQ",
        "outputId": "ee9a687d-7da0-4713-f93b-86c83e7c1c58"
      },
      "execution_count": null,
      "outputs": [
        {
          "output_type": "stream",
          "name": "stderr",
          "text": [
            "<ipython-input-45-d776a1656ae2>:1: RuntimeWarning: Mean of empty slice.\n",
            "  np.array([]).mean()\n",
            "/usr/local/lib/python3.10/dist-packages/numpy/core/_methods.py:189: RuntimeWarning: invalid value encountered in double_scalars\n",
            "  ret = ret.dtype.type(ret / rcount)\n"
          ]
        },
        {
          "output_type": "execute_result",
          "data": {
            "text/plain": [
              "nan"
            ]
          },
          "metadata": {},
          "execution_count": 45
        }
      ]
    },
    {
      "cell_type": "code",
      "source": [],
      "metadata": {
        "id": "JDi4gqGAzU9M"
      },
      "execution_count": null,
      "outputs": []
    }
  ]
}
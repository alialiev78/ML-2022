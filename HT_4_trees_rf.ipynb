{
  "cells": [
    {
      "cell_type": "markdown",
      "metadata": {
        "id": "JIBuNINtCeSG"
      },
      "source": [
        "# Домашнее задание 4: Деревья. Случайный лес\n",
        "\n",
        "Правила:\n",
        "\n",
        "- Домашнее задание оценивается в 10 баллов.\n",
        "\n",
        "\n",
        "- Можно использовать без доказательства любые результаты, встречавшиеся на лекциях или семинарах по курсу, если получение этих результатов не является вопросом задания.\n",
        "\n",
        "\n",
        "- Можно использовать любые свободные источники с обязательным указанием ссылки на них.\n",
        "\n",
        "\n",
        "- Плагиат не допускается. При обнаружении случаев списывания, 0 за работу выставляется всем участникам нарушения, даже если можно установить, кто у кого списал."
      ]
    },
    {
      "cell_type": "markdown",
      "metadata": {
        "id": "PVJnQ6OECeSK"
      },
      "source": [
        "## Часть 1: Основы построения решающего дерева (1.5 балла)\n",
        "\n",
        "В этой части все расчёты необходимо реализовывать в виде запрограммированных формул, например, на `numpy`. **Нельзя использовать готовые реализации**. Например, если в задании требуется рассчитать энтропию, то требуется в каком-то виде релизовать расчёт по формуле, но нельзя использовать готовую реализацию `some_module.entropy()`."
      ]
    },
    {
      "cell_type": "code",
      "execution_count": 13,
      "metadata": {
        "id": "sOXqW4DECeSL"
      },
      "outputs": [],
      "source": [
        "import numpy as np\n",
        "import pandas as pd\n",
        "import matplotlib.pyplot as plt"
      ]
    },
    {
      "cell_type": "markdown",
      "metadata": {
        "id": "VtrdPIb9CeSN"
      },
      "source": [
        "**Задание 1.1 (0.5 балла)** Пусть известно, что в вершину решающего дерева попали 10 объектов, 8 из которых имеют метку класса $k_1$, а 2 имеют метку класса $k_2$. Рассчитайте энтропию такого распределения классов (с натуральным логарифмом). Ответ округлите до двух знаков после запятой."
      ]
    },
    {
      "cell_type": "code",
      "execution_count": 14,
      "metadata": {
        "id": "W2FEVPTRCeSO",
        "colab": {
          "base_uri": "https://localhost:8080/"
        },
        "outputId": "5d9e738a-374d-40a1-a253-41c99fe338ab"
      },
      "outputs": [
        {
          "output_type": "stream",
          "name": "stdout",
          "text": [
            "0.5004024235381879\n"
          ]
        }
      ],
      "source": [
        "print(-(0.8*np.log(0.8) + 0.2*np.log(0.2)))"
      ]
    },
    {
      "cell_type": "markdown",
      "source": [
        "Примерно 0.5"
      ],
      "metadata": {
        "id": "UQQoO_QRMicM"
      }
    },
    {
      "cell_type": "markdown",
      "metadata": {
        "id": "TX-nlV56CeSO"
      },
      "source": [
        "**Задание 1.2 (0.5 балла)** Пусть дополнительно известно, что вершина из предыдущего задания не является листовой и возможно такое разбиение, что в левое поддерево попадут все объекты класса $k_1$, а в правое - класса $k_2$. Посчитайте критерий информативности:\n",
        "\n",
        "$$\n",
        "Q(R_m, j, t) = H(R_m) - \\frac{|R_\\ell|}{|R_m|}H(R_\\ell) - \\frac{|R_r|}{|R_m|}H(R_r),\n",
        "$$\n",
        "\n",
        "где $R_m$ - множество объектов в разбиваемой вершине, $j$ - номер признака, по которому происходит разбиение, $t$ - порог разбиения, $R_\\ell$ - множество объектов в левом поддереве, $R_r$ - множество объектов в правом поддереве.\n",
        "\n",
        "Теперь в качестве $H(R)$ будем использовать индекс Джини:\n",
        "\n",
        "$$\n",
        "H(R) = \\sum_{k=1}^J p_k(1-p_k),\n",
        "$$\n",
        "где $J$ – общее количество классов (в нашем случае, $J = 2$).\n",
        "\n",
        "Ответ округлите до двух знаков после запятой."
      ]
    },
    {
      "cell_type": "code",
      "execution_count": 15,
      "metadata": {
        "id": "H7XZfQSjCeSP",
        "colab": {
          "base_uri": "https://localhost:8080/"
        },
        "outputId": "1edbe1e0-c3db-4b78-d5c5-3c40c1f0760b"
      },
      "outputs": [
        {
          "output_type": "stream",
          "name": "stdout",
          "text": [
            "0.32000000000000006\n"
          ]
        }
      ],
      "source": [
        "print(0.8*0.2 + 0.2*0.8)"
      ]
    },
    {
      "cell_type": "markdown",
      "source": [
        "python шизит немного, ответ 0.32 (и округленный и без округления), вычитать ничего не надо, т.к. правые и левые поддеревья состоят из одного класса"
      ],
      "metadata": {
        "id": "gvAiQUQZNQ_G"
      }
    },
    {
      "cell_type": "markdown",
      "metadata": {
        "id": "f48lliCgCeSP"
      },
      "source": [
        "**Задание 1.3 (0.5 балла)** Пусть при построении дерева образовалась листовая вершина с 10 объектами, значения целевой переменной для которых следующие: [1, 10, 5, 18, 100, 30, 50, 61, 84, 47] (решается задача регрессии). Чему будут равны предсказания модели для этих объектов?"
      ]
    },
    {
      "cell_type": "markdown",
      "source": [
        "Вообще немного некорректный вопрос, т.к. предсказание необязательно может быть средним арифметическим, но я буду считать, что предсказание такое"
      ],
      "metadata": {
        "id": "PDAW2150NmBW"
      }
    },
    {
      "cell_type": "code",
      "execution_count": 16,
      "metadata": {
        "id": "2gvEoFFICeSQ",
        "colab": {
          "base_uri": "https://localhost:8080/"
        },
        "outputId": "da5e8268-070f-409b-9342-dac52afd5a46"
      },
      "outputs": [
        {
          "output_type": "stream",
          "name": "stdout",
          "text": [
            "40.6\n"
          ]
        }
      ],
      "source": [
        "print(np.array([1, 10, 5, 18, 100, 30, 50, 61, 84, 47]).mean())"
      ]
    },
    {
      "cell_type": "markdown",
      "metadata": {
        "id": "nj2L_3CnCeSQ"
      },
      "source": [
        "## Часть 2: Решающие деревья (4.5 балла)\n",
        "\n",
        "В этой части мы напишем и протестируем собственную реализацию решающего дерева."
      ]
    },
    {
      "cell_type": "code",
      "execution_count": 17,
      "metadata": {
        "id": "2CT7ch6FCeSQ"
      },
      "outputs": [],
      "source": [
        "from collections import Counter\n",
        "from typing import Dict, List, Tuple, Union"
      ]
    },
    {
      "cell_type": "markdown",
      "metadata": {
        "id": "AgN_keKSCeSR"
      },
      "source": [
        "**Задание 2.1 (1.5 балла)** Реализуйте функцию `find_best_split()`, которая должна находить оптимальное разбиение подмножества обучающей выборки в соответствии с информационным критерием из **Задания 1.2**. В качестве меры хаотичности $H(R)$ для задачи регрессии испольуйте дисперсию подвыборки, а для задачи классификации – критерий Джини (определён в том же задании).\n",
        "\n",
        "Для категориальных признаков применяется наивный алгоритм разбиения: мы пытаемся найти одно значение, разбиение по которому сильнее всего увеличит критерий информативности. Иными словами, объекты с конкретным значением признака отправляем в левое поддерево, остальные - в правое. Обратите внимание, что это не всегда самый оптимальный способ учёта категориальных признаков. Например, можно было бы на каждое значение категориального признака создавать отдельное поддерево или использовать более сложные подходы. \n",
        "\n",
        "В качестве подсказок реализации можете пользоваться кодом из [бонусной части семинара по решающим деревьям](https://github.com/Murcha1990/ML_econom_2022-2023/blob/main/Семинары/Семинар%208/Seminar8_2022.ipynb).\n",
        "\n",
        "**Бонус:** Разрешается делать цикл для перебора порогов, но возможна имплементация без него. За имплементацию без цикла – **бонус 1 балл**."
      ]
    },
    {
      "cell_type": "code",
      "execution_count": 42,
      "metadata": {
        "id": "svYIQfo1CeSS"
      },
      "outputs": [],
      "source": [
        "def find_best_split(feature_vector: Union[np.ndarray, pd.DataFrame], \n",
        "    target_vector: Union[np.ndarray, pd.Series],\n",
        "    task: str = \"classification\",\n",
        "    feature_type: str = \"real\"\n",
        ") -> Tuple[np.ndarray, np.ndarray, float, float]:\n",
        "    \"\"\"\n",
        "    Указания:\n",
        "    * Пороги, приводящие к попаданию в одно из поддеревьев пустого множества объектов, не рассматриваются.\n",
        "    * В качестве порогов, нужно брать среднее двух сосдених (при сортировке) значений признака\n",
        "    * Поведение функции в случае константного признака может быть любым.\n",
        "    * При одинаковых приростах Джини или дисперсии нужно выбирать минимальный сплит.\n",
        "    * За наличие в функции циклов балл будет снижен. Векторизуйте! :)\n",
        "\n",
        "    :param feature_vector: вещественнозначный вектор значений признака\n",
        "    :param target_vector: вектор классов объектов,  len(feature_vector) == len(target_vector)\n",
        "    :param task: либо `classification`, либо `regression`\n",
        "    :param feature_type: либо `real`, либо `categorical`\n",
        "    \n",
        "    :return thresholds: отсортированный по возрастанию вектор со всеми возможными порогами, по которым объекты можно\n",
        "     разделить на две различные подвыборки, или поддерева\n",
        "    :return ginis: вектор со значениями критерия Джини для каждого из порогов в thresholds len(ginis) == len(thresholds)\n",
        "    :return threshold_best: оптимальный порог (число)\n",
        "    :return gini_best: оптимальное значение критерия Джини (число)\n",
        "    \n",
        "    в случае регрессии возвращаем не Джини, а дисперсию\n",
        "    \"\"\"\n",
        "    if task == \"classification\":\n",
        "        H = lambda x: (1 - ps(x)) @ ps(x).T \n",
        "    elif task == \"regression\":\n",
        "        H = np.std\n",
        "    def impurity(H, features, target, task, t):\n",
        "      if task == \"real\":\n",
        "        R_l = target[features < t]\n",
        "        R_r = target[features >= t]\n",
        "      else:\n",
        "        R_l = target[features == t]\n",
        "        R_r = target[features != t]\n",
        "      return H(target) - len(R_l)/len(target)*H(R_l) - len(R_r)/len(target)*H(R_r)\n",
        "  \n",
        "    thresholds = (np.unique(feature_vector)[1:] + np.unique(feature_vector)[:-1])/2\n",
        "    impurity_vect = np.vectorize(lambda t: impurity(H, feature_vector, target_vector, feature_type, t))\n",
        "    gini = impurity_vect(thresholds)\n",
        "    threshold_best = thresholds[np.argmax(gini)]\n",
        "    gini_best = np.max(gini)\n",
        "\n",
        "    return thresholds, gini, threshold_best, gini_best\n",
        "    \n"
      ]
    },
    {
      "cell_type": "markdown",
      "metadata": {
        "id": "Zzhkzj0YCeSS"
      },
      "source": [
        "Эту функцию можно протестировать на датасете `California` из `sklearn`."
      ]
    },
    {
      "cell_type": "code",
      "execution_count": 43,
      "metadata": {
        "id": "RVqjQa-qCeST",
        "scrolled": true,
        "colab": {
          "base_uri": "https://localhost:8080/"
        },
        "outputId": "c2143e37-e0f1-4799-cb69-86db48d1673c"
      },
      "outputs": [
        {
          "output_type": "stream",
          "name": "stdout",
          "text": [
            "   MedInc  HouseAge  AveRooms  AveBedrms  Population  AveOccup  Latitude  \\\n",
            "0  8.3252      41.0  6.984127   1.023810       322.0  2.555556     37.88   \n",
            "1  8.3014      21.0  6.238137   0.971880      2401.0  2.109842     37.86   \n",
            "2  7.2574      52.0  8.288136   1.073446       496.0  2.802260     37.85   \n",
            "3  5.6431      52.0  5.817352   1.073059       558.0  2.547945     37.85   \n",
            "4  3.8462      52.0  6.281853   1.081081       565.0  2.181467     37.85   \n",
            "\n",
            "   Longitude  \n",
            "0    -122.23  \n",
            "1    -122.22  \n",
            "2    -122.24  \n",
            "3    -122.25  \n",
            "4    -122.25  \n",
            ".. _california_housing_dataset:\n",
            "\n",
            "California Housing dataset\n",
            "--------------------------\n",
            "\n",
            "**Data Set Characteristics:**\n",
            "\n",
            "    :Number of Instances: 20640\n",
            "\n",
            "    :Number of Attributes: 8 numeric, predictive attributes and the target\n",
            "\n",
            "    :Attribute Information:\n",
            "        - MedInc        median income in block group\n",
            "        - HouseAge      median house age in block group\n",
            "        - AveRooms      average number of rooms per household\n",
            "        - AveBedrms     average number of bedrooms per household\n",
            "        - Population    block group population\n",
            "        - AveOccup      average number of household members\n",
            "        - Latitude      block group latitude\n",
            "        - Longitude     block group longitude\n",
            "\n",
            "    :Missing Attribute Values: None\n",
            "\n",
            "This dataset was obtained from the StatLib repository.\n",
            "https://www.dcc.fc.up.pt/~ltorgo/Regression/cal_housing.html\n",
            "\n",
            "The target variable is the median house value for California districts,\n",
            "expressed in hundreds of thousands of dollars ($100,000).\n",
            "\n",
            "This dataset was derived from the 1990 U.S. census, using one row per census\n",
            "block group. A block group is the smallest geographical unit for which the U.S.\n",
            "Census Bureau publishes sample data (a block group typically has a population\n",
            "of 600 to 3,000 people).\n",
            "\n",
            "A household is a group of people residing within a home. Since the average\n",
            "number of rooms and bedrooms in this dataset are provided per household, these\n",
            "columns may take surprisingly large values for block groups with few households\n",
            "and many empty houses, such as vacation resorts.\n",
            "\n",
            "It can be downloaded/loaded using the\n",
            ":func:`sklearn.datasets.fetch_california_housing` function.\n",
            "\n",
            ".. topic:: References\n",
            "\n",
            "    - Pace, R. Kelley and Ronald Barry, Sparse Spatial Autoregressions,\n",
            "      Statistics and Probability Letters, 33 (1997) 291-297\n",
            "\n"
          ]
        }
      ],
      "source": [
        "from sklearn.datasets import fetch_california_housing\n",
        "\n",
        "california = fetch_california_housing()\n",
        "X = pd.DataFrame(data=california[\"data\"], columns=california[\"feature_names\"])\n",
        "y = california[\"target\"]\n",
        "print(X.head())\n",
        "\n",
        "print(california[\"DESCR\"])"
      ]
    },
    {
      "cell_type": "code",
      "execution_count": 44,
      "metadata": {
        "id": "LjgyRY7ALhup"
      },
      "outputs": [],
      "source": [
        "thresholds, variances, threshold_best, variance_best = find_best_split(\n",
        "    X[\"MedInc\"].to_numpy(), \n",
        "    y, \n",
        "    task=\"regression\",\n",
        "    feature_type=\"real\"\n",
        ")"
      ]
    },
    {
      "cell_type": "markdown",
      "metadata": {
        "id": "IHc2yqUdCeST"
      },
      "source": [
        "Выведите график зависимости значения критерия ошибки от порогового значения при разбиении вершины по признаку `MedInc`."
      ]
    },
    {
      "cell_type": "code",
      "execution_count": 45,
      "metadata": {
        "id": "c204TPwVCeSU",
        "colab": {
          "base_uri": "https://localhost:8080/",
          "height": 449
        },
        "outputId": "2330d4a3-89dd-4336-cc70-78217daaf211"
      },
      "outputs": [
        {
          "output_type": "display_data",
          "data": {
            "text/plain": [
              "<Figure size 640x480 with 1 Axes>"
            ],
            "image/png": "[encoded data removed]"
          },
          "metadata": {}
        }
      ],
      "source": [
        "plt.plot(thresholds, variances)\n",
        "plt.xlabel(\"threshold\")\n",
        "plt.ylabel(\"variance\")\n",
        "plt.show()"
      ]
    },
    {
      "cell_type": "markdown",
      "metadata": {
        "id": "_dgysmadCeSU"
      },
      "source": [
        "**Задание 2.2 (1 балл)** Разберитесь с написанным кодом решающего дерева, заполните пропуски в коде и реализуйте недостающий метод `_predict_node()`.\n",
        "\n",
        "Построение дерева осуществляется согласно базовому жадному алгоритму, предложенному в лекции в разделе «Построение дерева».\n",
        "- **Выбор лучшего разбиения** необходимо производить по критерию Джини.\n",
        "- **Критерий останова:** все объекты в листе относятся к одному классу или ни по одному признаку нельзя разбить выборку.\n",
        "- **Ответ в листе:** наиболее часто встречающийся класс в листе."
      ]
    },
    {
      "cell_type": "code",
      "execution_count": 46,
      "metadata": {
        "id": "qc9uAWzkCeSV"
      },
      "outputs": [],
      "source": [
        "class DecisionTree:\n",
        "    \n",
        "    def __init__(self, \n",
        "        feature_types: Union[List[str], np.ndarray], \n",
        "        max_depth: int = None, \n",
        "        min_samples_split: int = None, \n",
        "        min_samples_leaf: int = None,\n",
        "        task: str = \"classification\"\n",
        "    ) -> None:\n",
        "        \n",
        "        if np.any(list(map(lambda x: x != \"real\" and x != \"categorical\", feature_types))):\n",
        "            raise ValueError(\"There is unknown feature type\")\n",
        "\n",
        "        # В этой переменной будем хранить узлы решающего дерева. Каждая вершина хранит в себе идентификатор того,\n",
        "        # является ли она листовой. Листовые вершины хранят значение класса для предсказания, нелистовые - правого и\n",
        "        # левого детей (поддеревья для продолжения процедуры предсказания)\n",
        "        self._tree = {}\n",
        "        \n",
        "        # типы признаков (категориальные или числовые)\n",
        "        self._feature_types = feature_types\n",
        "        \n",
        "        # гиперпараметры дерева\n",
        "        self._max_depth = max_depth\n",
        "        self._min_samples_split = min_samples_split\n",
        "        self._min_samples_leaf = min_samples_leaf\n",
        "        self.task = task\n",
        "\n",
        "    def _fit_node(\n",
        "        self, \n",
        "        sub_X: np.ndarray, \n",
        "        sub_y: np.ndarray, \n",
        "        node: dict\n",
        "    ) -> None:\n",
        "        \n",
        "        # критерий останова\n",
        "        if np.all(sub_y == sub_y[0]):\n",
        "            node[\"type\"] = \"terminal\"\n",
        "            node[\"class\"] = sub_y[0]\n",
        "            return\n",
        "\n",
        "        feature_best, threshold_best, gini_best, split = None, None, None, None\n",
        "        for feature in range(sub_X.shape[1]):\n",
        "            feature_type = self._feature_types[feature]\n",
        "            categories_map = {}\n",
        "\n",
        "            # подготавливаем признак для поиска оптимального порога\n",
        "            if feature_type == \"real\":\n",
        "                feature_vector = sub_X[:, feature]\n",
        "            elif feature_type == \"categorical\":\n",
        "                # здесь могла быть реализация более сложного подхода к обработке категориального признака\n",
        "                feature_vector = sub_X[:, feature]\n",
        "\n",
        "            # ищем оптимальный порог\n",
        "            _, _, threshold, gini = find_best_split(feature_vector, sub_y, self.task, feature_type)\n",
        "            \n",
        "            if gini_best is None or gini > gini_best:\n",
        "                feature_best = feature\n",
        "                gini_best = gini\n",
        "\n",
        "                # split - маска на объекты, которые должны попасть в левое поддерево\n",
        "                if feature_type == \"real\":\n",
        "                    threshold_best = threshold\n",
        "                    split = (feature_vector < threshold_best)\n",
        "                elif feature_type == \"categorical\":\n",
        "                    # в данной реализации это просто значение категории\n",
        "                    threshold_best = threshold\n",
        "                    split = (feature_vector == threshold_best)\n",
        "                else:\n",
        "                    raise ValueError\n",
        "\n",
        "        # записываем полученные сплиты в атрибуты класса\n",
        "        if feature_best is None:\n",
        "            node[\"type\"] = \"terminal\"\n",
        "            node[\"class\"] = Counter(sub_y).most_common(1)[0][0]\n",
        "            return\n",
        "\n",
        "        node[\"type\"] = \"nonterminal\"\n",
        "\n",
        "        node[\"feature_split\"] = feature_best\n",
        "        if self._feature_types[feature_best] == \"real\":\n",
        "            node[\"threshold\"] = threshold_best\n",
        "        elif self._feature_types[feature_best] == \"categorical\":\n",
        "            node[\"category_split\"] = threshold_best\n",
        "        else:\n",
        "            raise ValueError\n",
        "            \n",
        "        node[\"left_child\"], node[\"right_child\"] = {}, {}\n",
        "        self._fit_node(sub_X[split], sub_y[split], node[\"left_child\"])\n",
        "        self._fit_node(sub_X[np.logical_not(split)], sub_y[np.logical_not(split)], node[\"right_child\"])\n",
        "\n",
        "    def _predict_node(self, x: np.ndarray, node: dict) -> int:\n",
        "        \"\"\"\n",
        "        Предсказание начинается с корневой вершины дерева и рекурсивно идёт в левое или правое поддерево в зависимости от значения\n",
        "        предиката на объекте. Листовая вершина возвращает предсказание.\n",
        "        :param x: np.array, элемент выборки\n",
        "        :param node: dict, вершина дерева\n",
        "        \"\"\"\n",
        "        if node[\"type\"] == \"terminal\":\n",
        "            return node[\"class\"]\n",
        "        else:\n",
        "            if \"threshold\" in node:\n",
        "                if x[node[\"feature_split\"]] < node[\"threshold\"]:\n",
        "                    return _predict_node(self, x, node[\"left_child\"])\n",
        "                else:\n",
        "                    return _predict_node(self, x, node[\"right_child\"])\n",
        "            else:\n",
        "                if x[node[\"feature_split\"]] == node[\"category_split\"]:\n",
        "                    return _predict_node(self, x, node[\"left_child\"])\n",
        "                else:\n",
        "                    return _predict_node(self, x, node[\"right_child\"])\n",
        "        pass\n",
        "\n",
        "    def fit(self, X: np.ndarray, y: np.ndarray) -> None:\n",
        "        self._fit_node(X, y, self._tree)\n",
        "\n",
        "    def predict(self, X: np.ndarray) -> np.ndarray:\n",
        "        predicted = []\n",
        "        for x in X:\n",
        "            predicted.append(self._predict_node(x, self._tree))\n",
        "            \n",
        "        return np.array(predicted)"
      ]
    },
    {
      "cell_type": "markdown",
      "metadata": {
        "id": "sVabcvMGCeSW"
      },
      "source": [
        "**Задание 2.3 (1 балл)** Загрузите таблицу `students.csv` (это немного преобразованный датасет [User Knowledge](https://archive.ics.uci.edu/ml/datasets/User+Knowledge+Modeling)). В ней признаки объекта записаны в первых пяти столбцах, а в последнем записана целевая переменная (класс: 0 или 1). Постройте на одном изображении пять кривых \"порог — значение критерия Джини\" для всех пяти признаков. Отдельно визуализируйте диаграммы рассеяния \"значение признака — класс\" для всех пяти признаков."
      ]
    },
    {
      "cell_type": "code",
      "execution_count": 51,
      "metadata": {
        "id": "3ypWTXvbCeSW",
        "colab": {
          "base_uri": "https://localhost:8080/",
          "height": 423
        },
        "outputId": "fbe8d4de-c9a4-4070-8358-3cf6bffbabc3"
      },
      "outputs": [
        {
          "output_type": "execute_result",
          "data": {
            "text/plain": [
              "     Unnamed: 0   STG   SCG   STR   LPR   PEG  UNS\n",
              "0             0  0.00  0.00  0.00  0.00  0.00    0\n",
              "1             1  0.08  0.08  0.10  0.24  0.90    1\n",
              "2             2  0.06  0.06  0.05  0.25  0.33    0\n",
              "3             3  0.10  0.10  0.15  0.65  0.30    1\n",
              "4             4  0.08  0.08  0.08  0.98  0.24    0\n",
              "..          ...   ...   ...   ...   ...   ...  ...\n",
              "253         253  0.61  0.78  0.69  0.92  0.58    1\n",
              "254         254  0.78  0.61  0.71  0.19  0.60    1\n",
              "255         255  0.54  0.82  0.71  0.29  0.77    1\n",
              "256         256  0.50  0.75  0.81  0.61  0.26    1\n",
              "257         257  0.66  0.90  0.76  0.87  0.74    1\n",
              "\n",
              "[258 rows x 7 columns]"
            ],
            "text/html": [
              "\n",
              "  <div id=\"df-6af71576-d663-4be6-81f9-5850157f6ae5\">\n",
              "    <div class=\"colab-df-container\">\n",
              "      <div>\n",
              "<style scoped>\n",
              "    .dataframe tbody tr th:only-of-type {\n",
              "        vertical-align: middle;\n",
              "    }\n",
              "\n",
              "    .dataframe tbody tr th {\n",
              "        vertical-align: top;\n",
              "    }\n",
              "\n",
              "    .dataframe thead th {\n",
              "        text-align: right;\n",
              "    }\n",
              "</style>\n",
              "<table border=\"1\" class=\"dataframe\">\n",
              "  <thead>\n",
              "    <tr style=\"text-align: right;\">\n",
              "      <th></th>\n",
              "      <th>Unnamed: 0</th>\n",
              "      <th>STG</th>\n",
              "      <th>SCG</th>\n",
              "      <th>STR</th>\n",
              "      <th>LPR</th>\n",
              "      <th>PEG</th>\n",
              "      <th>UNS</th>\n",
              "    </tr>\n",
              "  </thead>\n",
              "  <tbody>\n",
              "    <tr>\n",
              "      <th>0</th>\n",
              "      <td>0</td>\n",
              "      <td>0.00</td>\n",
              "      <td>0.00</td>\n",
              "      <td>0.00</td>\n",
              "      <td>0.00</td>\n",
              "      <td>0.00</td>\n",
              "      <td>0</td>\n",
              "    </tr>\n",
              "    <tr>\n",
              "      <th>1</th>\n",
              "      <td>1</td>\n",
              "      <td>0.08</td>\n",
              "      <td>0.08</td>\n",
              "      <td>0.10</td>\n",
              "      <td>0.24</td>\n",
              "      <td>0.90</td>\n",
              "      <td>1</td>\n",
              "    </tr>\n",
              "    <tr>\n",
              "      <th>2</th>\n",
              "      <td>2</td>\n",
              "      <td>0.06</td>\n",
              "      <td>0.06</td>\n",
              "      <td>0.05</td>\n",
              "      <td>0.25</td>\n",
              "      <td>0.33</td>\n",
              "      <td>0</td>\n",
              "    </tr>\n",
              "    <tr>\n",
              "      <th>3</th>\n",
              "      <td>3</td>\n",
              "      <td>0.10</td>\n",
              "      <td>0.10</td>\n",
              "      <td>0.15</td>\n",
              "      <td>0.65</td>\n",
              "      <td>0.30</td>\n",
              "      <td>1</td>\n",
              "    </tr>\n",
              "    <tr>\n",
              "      <th>4</th>\n",
              "      <td>4</td>\n",
              "      <td>0.08</td>\n",
              "      <td>0.08</td>\n",
              "      <td>0.08</td>\n",
              "      <td>0.98</td>\n",
              "      <td>0.24</td>\n",
              "      <td>0</td>\n",
              "    </tr>\n",
              "    <tr>\n",
              "      <th>...</th>\n",
              "      <td>...</td>\n",
              "      <td>...</td>\n",
              "      <td>...</td>\n",
              "      <td>...</td>\n",
              "      <td>...</td>\n",
              "      <td>...</td>\n",
              "      <td>...</td>\n",
              "    </tr>\n",
              "    <tr>\n",
              "      <th>253</th>\n",
              "      <td>253</td>\n",
              "      <td>0.61</td>\n",
              "      <td>0.78</td>\n",
              "      <td>0.69</td>\n",
              "      <td>0.92</td>\n",
              "      <td>0.58</td>\n",
              "      <td>1</td>\n",
              "    </tr>\n",
              "    <tr>\n",
              "      <th>254</th>\n",
              "      <td>254</td>\n",
              "      <td>0.78</td>\n",
              "      <td>0.61</td>\n",
              "      <td>0.71</td>\n",
              "      <td>0.19</td>\n",
              "      <td>0.60</td>\n",
              "      <td>1</td>\n",
              "    </tr>\n",
              "    <tr>\n",
              "      <th>255</th>\n",
              "      <td>255</td>\n",
              "      <td>0.54</td>\n",
              "      <td>0.82</td>\n",
              "      <td>0.71</td>\n",
              "      <td>0.29</td>\n",
              "      <td>0.77</td>\n",
              "      <td>1</td>\n",
              "    </tr>\n",
              "    <tr>\n",
              "      <th>256</th>\n",
              "      <td>256</td>\n",
              "      <td>0.50</td>\n",
              "      <td>0.75</td>\n",
              "      <td>0.81</td>\n",
              "      <td>0.61</td>\n",
              "      <td>0.26</td>\n",
              "      <td>1</td>\n",
              "    </tr>\n",
              "    <tr>\n",
              "      <th>257</th>\n",
              "      <td>257</td>\n",
              "      <td>0.66</td>\n",
              "      <td>0.90</td>\n",
              "      <td>0.76</td>\n",
              "      <td>0.87</td>\n",
              "      <td>0.74</td>\n",
              "      <td>1</td>\n",
              "    </tr>\n",
              "  </tbody>\n",
              "</table>\n",
              "<p>258 rows × 7 columns</p>\n",
              "</div>\n",
              "      <button class=\"colab-df-convert\" onclick=\"convertToInteractive('df-6af71576-d663-4be6-81f9-5850157f6ae5')\"\n",
              "              title=\"Convert this dataframe to an interactive table.\"\n",
              "              style=\"display:none;\">\n",
              "        \n",
              "  <svg xmlns=\"http://www.w3.org/2000/svg\" height=\"24px\"viewBox=\"0 0 24 24\"\n",
              "       width=\"24px\">\n",
              "    <path d=\"M0 0h24v24H0V0z\" fill=\"none\"/>\n",
              "    <path d=\"M18.56 5.44l.94 2.06.94-2.06 2.06-.94-2.06-.94-.94-2.06-.94 2.06-2.06.94zm-11 1L8.5 8.5l.94-2.06 2.06-.94-2.06-.94L8.5 2.5l-.94 2.06-2.06.94zm10 10l.94 2.06.94-2.06 2.06-.94-2.06-.94-.94-2.06-.94 2.06-2.06.94z\"/><path d=\"M17.41 7.96l-1.37-1.37c-.4-.4-.92-.59-1.43-.59-.52 0-1.04.2-1.43.59L10.3 9.45l-7.72 7.72c-.78.78-.78 2.05 0 2.83L4 21.41c.39.39.9.59 1.41.59.51 0 1.02-.2 1.41-.59l7.78-7.78 2.81-2.81c.8-.78.8-2.07 0-2.86zM5.41 20L4 18.59l7.72-7.72 1.47 1.35L5.41 20z\"/>\n",
              "  </svg>\n",
              "      </button>\n",
              "      \n",
              "  <style>\n",
              "    .colab-df-container {\n",
              "      display:flex;\n",
              "      flex-wrap:wrap;\n",
              "      gap: 12px;\n",
              "    }\n",
              "\n",
              "    .colab-df-convert {\n",
              "      background-color: #E8F0FE;\n",
              "      border: none;\n",
              "      border-radius: 50%;\n",
              "      cursor: pointer;\n",
              "      display: none;\n",
              "      fill: #1967D2;\n",
              "      height: 32px;\n",
              "      padding: 0 0 0 0;\n",
              "      width: 32px;\n",
              "    }\n",
              "\n",
              "    .colab-df-convert:hover {\n",
              "      background-color: #E2EBFA;\n",
              "      box-shadow: 0px 1px 2px rgba(60, 64, 67, 0.3), 0px 1px 3px 1px rgba(60, 64, 67, 0.15);\n",
              "      fill: #174EA6;\n",
              "    }\n",
              "\n",
              "    [theme=dark] .colab-df-convert {\n",
              "      background-color: #3B4455;\n",
              "      fill: #D2E3FC;\n",
              "    }\n",
              "\n",
              "    [theme=dark] .colab-df-convert:hover {\n",
              "      background-color: #434B5C;\n",
              "      box-shadow: 0px 1px 3px 1px rgba(0, 0, 0, 0.15);\n",
              "      filter: drop-shadow(0px 1px 2px rgba(0, 0, 0, 0.3));\n",
              "      fill: #FFFFFF;\n",
              "    }\n",
              "  </style>\n",
              "\n",
              "      <script>\n",
              "        const buttonEl =\n",
              "          document.querySelector('#df-6af71576-d663-4be6-81f9-5850157f6ae5 button.colab-df-convert');\n",
              "        buttonEl.style.display =\n",
              "          google.colab.kernel.accessAllowed ? 'block' : 'none';\n",
              "\n",
              "        async function convertToInteractive(key) {\n",
              "          const element = document.querySelector('#df-6af71576-d663-4be6-81f9-5850157f6ae5');\n",
              "          const dataTable =\n",
              "            await google.colab.kernel.invokeFunction('convertToInteractive',\n",
              "                                                     [key], {});\n",
              "          if (!dataTable) return;\n",
              "\n",
              "          const docLinkHtml = 'Like what you see? Visit the ' +\n",
              "            '<a target=\"_blank\" href=https://colab.research.google.com/notebooks/data_table.ipynb>data table notebook</a>'\n",
              "            + ' to learn more about interactive tables.';\n",
              "          element.innerHTML = '';\n",
              "          dataTable['output_type'] = 'display_data';\n",
              "          await google.colab.output.renderOutput(dataTable, element);\n",
              "          const docLink = document.createElement('div');\n",
              "          docLink.innerHTML = docLinkHtml;\n",
              "          element.appendChild(docLink);\n",
              "        }\n",
              "      </script>\n",
              "    </div>\n",
              "  </div>\n",
              "  "
            ]
          },
          "metadata": {},
          "execution_count": 51
        }
      ],
      "source": [
        "#data = pd.read_excel('Data_User_Modeling_Dataset_Hamdi Tolga KAHRAMAN.xls')\n",
        "#data\n",
        "data = pd.read_csv('students.csv')\n",
        "data"
      ]
    },
    {
      "cell_type": "markdown",
      "source": [
        "не успел нормально сделать это и след. задание (но бэггинг и дальше - делал)"
      ],
      "metadata": {
        "id": "Zff2c9sr8s8y"
      }
    },
    {
      "cell_type": "markdown",
      "metadata": {
        "id": "ykZAtVyRCeSX"
      },
      "source": [
        "Исходя из кривых значений критерия Джини, по какому признаку нужно производить деление выборки на два поддерева? Согласуется ли этот результат с визуальной оценкой диаграмм рассеяиния? Как бы охарактеризовали вид кривой для \"хороших\" признаков, по которым выборка делится почти идеально? Чем отличаются кривые для признаков, по которым деление практически невозможно?"
      ]
    },
    {
      "cell_type": "code",
      "execution_count": 22,
      "metadata": {
        "id": "vebJqWC5CeSX"
      },
      "outputs": [],
      "source": []
    },
    {
      "cell_type": "markdown",
      "metadata": {
        "id": "XwUu67sICeSX"
      },
      "source": [
        "**Задание 2.4 (1 балл)** Протестируйте свое решающее дерево на датасете [mushrooms](https://archive.ics.uci.edu/ml/datasets/Mushroom). \n",
        "\n",
        "1. Скачайте таблицу `agaricus-lepiota.data` (из [Data Folder](https://archive.ics.uci.edu/ml/machine-learning-databases/mushroom/)), \n",
        "2. Считайте таблицу при помощи `pandas`,\n",
        "3. Примените к каждому столбцу `LabelEncoder` (из `sklearn`), чтобы преобразовать строковые имена категорий в натуральные числа. \n",
        "\n",
        "Первый столбец — это целевая переменная (e — edible, p — poisonous) Мы будем измерять качество с помощью accuracy, так что нам не очень важно, что будет классом 1, а что — классом 0. Обучите решающее дерево на половине случайно выбранных объектов (признаки в датасете категориальные) и сделайте предсказания для оставшейся половины. Вычислите accuracy."
      ]
    },
    {
      "cell_type": "code",
      "execution_count": 58,
      "metadata": {
        "id": "YFF7OviyCeSY",
        "colab": {
          "base_uri": "https://localhost:8080/",
          "height": 423
        },
        "outputId": "418de23d-3d10-4d85-bd53-97c09353e907"
      },
      "outputs": [
        {
          "output_type": "execute_result",
          "data": {
            "text/plain": [
              "      p  x  s  n  t  p.1  f  c  n.1   k  ...  s.2  w  w.1  p.2  w.2  o  p.3  \\\n",
              "0     0  5  2  9  1    0  1  0    0   4  ...    2  7    7    0    2  1    4   \n",
              "1     0  0  2  8  1    3  1  0    0   5  ...    2  7    7    0    2  1    4   \n",
              "2     1  5  3  8  1    6  1  0    1   5  ...    2  7    7    0    2  1    4   \n",
              "3     0  5  2  3  0    5  1  1    0   4  ...    2  7    7    0    2  1    0   \n",
              "4     0  5  3  9  1    0  1  0    0   5  ...    2  7    7    0    2  1    4   \n",
              "...  .. .. .. .. ..  ... .. ..  ...  ..  ...  ... ..  ...  ...  ... ..  ...   \n",
              "8118  0  3  2  4  0    5  0  0    0  11  ...    2  5    5    0    1  1    4   \n",
              "8119  0  5  2  4  0    5  0  0    0  11  ...    2  5    5    0    0  1    4   \n",
              "8120  0  2  2  4  0    5  0  0    0   5  ...    2  5    5    0    1  1    4   \n",
              "8121  1  3  3  4  0    8  1  0    1   0  ...    1  7    7    0    2  1    0   \n",
              "8122  0  5  2  4  0    5  0  0    0  11  ...    2  5    5    0    1  1    4   \n",
              "\n",
              "      k.1  s.3  u  \n",
              "0       3    2  1  \n",
              "1       3    2  3  \n",
              "2       2    3  5  \n",
              "3       3    0  1  \n",
              "4       2    2  1  \n",
              "...   ...  ... ..  \n",
              "8118    0    1  2  \n",
              "8119    0    4  2  \n",
              "8120    0    1  2  \n",
              "8121    7    4  2  \n",
              "8122    4    1  2  \n",
              "\n",
              "[8123 rows x 23 columns]"
            ],
            "text/html": [
              "\n",
              "  <div id=\"df-5fa1928c-a840-45ed-a638-e6ee50d5b881\">\n",
              "    <div class=\"colab-df-container\">\n",
              "      <div>\n",
              "<style scoped>\n",
              "    .dataframe tbody tr th:only-of-type {\n",
              "        vertical-align: middle;\n",
              "    }\n",
              "\n",
              "    .dataframe tbody tr th {\n",
              "        vertical-align: top;\n",
              "    }\n",
              "\n",
              "    .dataframe thead th {\n",
              "        text-align: right;\n",
              "    }\n",
              "</style>\n",
              "<table border=\"1\" class=\"dataframe\">\n",
              "  <thead>\n",
              "    <tr style=\"text-align: right;\">\n",
              "      <th></th>\n",
              "      <th>p</th>\n",
              "      <th>x</th>\n",
              "      <th>s</th>\n",
              "      <th>n</th>\n",
              "      <th>t</th>\n",
              "      <th>p.1</th>\n",
              "      <th>f</th>\n",
              "      <th>c</th>\n",
              "      <th>n.1</th>\n",
              "      <th>k</th>\n",
              "      <th>...</th>\n",
              "      <th>s.2</th>\n",
              "      <th>w</th>\n",
              "      <th>w.1</th>\n",
              "      <th>p.2</th>\n",
              "      <th>w.2</th>\n",
              "      <th>o</th>\n",
              "      <th>p.3</th>\n",
              "      <th>k.1</th>\n",
              "      <th>s.3</th>\n",
              "      <th>u</th>\n",
              "    </tr>\n",
              "  </thead>\n",
              "  <tbody>\n",
              "    <tr>\n",
              "      <th>0</th>\n",
              "      <td>0</td>\n",
              "      <td>5</td>\n",
              "      <td>2</td>\n",
              "      <td>9</td>\n",
              "      <td>1</td>\n",
              "      <td>0</td>\n",
              "      <td>1</td>\n",
              "      <td>0</td>\n",
              "      <td>0</td>\n",
              "      <td>4</td>\n",
              "      <td>...</td>\n",
              "      <td>2</td>\n",
              "      <td>7</td>\n",
              "      <td>7</td>\n",
              "      <td>0</td>\n",
              "      <td>2</td>\n",
              "      <td>1</td>\n",
              "      <td>4</td>\n",
              "      <td>3</td>\n",
              "      <td>2</td>\n",
              "      <td>1</td>\n",
              "    </tr>\n",
              "    <tr>\n",
              "      <th>1</th>\n",
              "      <td>0</td>\n",
              "      <td>0</td>\n",
              "      <td>2</td>\n",
              "      <td>8</td>\n",
              "      <td>1</td>\n",
              "      <td>3</td>\n",
              "      <td>1</td>\n",
              "      <td>0</td>\n",
              "      <td>0</td>\n",
              "      <td>5</td>\n",
              "      <td>...</td>\n",
              "      <td>2</td>\n",
              "      <td>7</td>\n",
              "      <td>7</td>\n",
              "      <td>0</td>\n",
              "      <td>2</td>\n",
              "      <td>1</td>\n",
              "      <td>4</td>\n",
              "      <td>3</td>\n",
              "      <td>2</td>\n",
              "      <td>3</td>\n",
              "    </tr>\n",
              "    <tr>\n",
              "      <th>2</th>\n",
              "      <td>1</td>\n",
              "      <td>5</td>\n",
              "      <td>3</td>\n",
              "      <td>8</td>\n",
              "      <td>1</td>\n",
              "      <td>6</td>\n",
              "      <td>1</td>\n",
              "      <td>0</td>\n",
              "      <td>1</td>\n",
              "      <td>5</td>\n",
              "      <td>...</td>\n",
              "      <td>2</td>\n",
              "      <td>7</td>\n",
              "      <td>7</td>\n",
              "      <td>0</td>\n",
              "      <td>2</td>\n",
              "      <td>1</td>\n",
              "      <td>4</td>\n",
              "      <td>2</td>\n",
              "      <td>3</td>\n",
              "      <td>5</td>\n",
              "    </tr>\n",
              "    <tr>\n",
              "      <th>3</th>\n",
              "      <td>0</td>\n",
              "      <td>5</td>\n",
              "      <td>2</td>\n",
              "      <td>3</td>\n",
              "      <td>0</td>\n",
              "      <td>5</td>\n",
              "      <td>1</td>\n",
              "      <td>1</td>\n",
              "      <td>0</td>\n",
              "      <td>4</td>\n",
              "      <td>...</td>\n",
              "      <td>2</td>\n",
              "      <td>7</td>\n",
              "      <td>7</td>\n",
              "      <td>0</td>\n",
              "      <td>2</td>\n",
              "      <td>1</td>\n",
              "      <td>0</td>\n",
              "      <td>3</td>\n",
              "      <td>0</td>\n",
              "      <td>1</td>\n",
              "    </tr>\n",
              "    <tr>\n",
              "      <th>4</th>\n",
              "      <td>0</td>\n",
              "      <td>5</td>\n",
              "      <td>3</td>\n",
              "      <td>9</td>\n",
              "      <td>1</td>\n",
              "      <td>0</td>\n",
              "      <td>1</td>\n",
              "      <td>0</td>\n",
              "      <td>0</td>\n",
              "      <td>5</td>\n",
              "      <td>...</td>\n",
              "      <td>2</td>\n",
              "      <td>7</td>\n",
              "      <td>7</td>\n",
              "      <td>0</td>\n",
              "      <td>2</td>\n",
              "      <td>1</td>\n",
              "      <td>4</td>\n",
              "      <td>2</td>\n",
              "      <td>2</td>\n",
              "      <td>1</td>\n",
              "    </tr>\n",
              "    <tr>\n",
              "      <th>...</th>\n",
              "      <td>...</td>\n",
              "      <td>...</td>\n",
              "      <td>...</td>\n",
              "      <td>...</td>\n",
              "      <td>...</td>\n",
              "      <td>...</td>\n",
              "      <td>...</td>\n",
              "      <td>...</td>\n",
              "      <td>...</td>\n",
              "      <td>...</td>\n",
              "      <td>...</td>\n",
              "      <td>...</td>\n",
              "      <td>...</td>\n",
              "      <td>...</td>\n",
              "      <td>...</td>\n",
              "      <td>...</td>\n",
              "      <td>...</td>\n",
              "      <td>...</td>\n",
              "      <td>...</td>\n",
              "      <td>...</td>\n",
              "      <td>...</td>\n",
              "    </tr>\n",
              "    <tr>\n",
              "      <th>8118</th>\n",
              "      <td>0</td>\n",
              "      <td>3</td>\n",
              "      <td>2</td>\n",
              "      <td>4</td>\n",
              "      <td>0</td>\n",
              "      <td>5</td>\n",
              "      <td>0</td>\n",
              "      <td>0</td>\n",
              "      <td>0</td>\n",
              "      <td>11</td>\n",
              "      <td>...</td>\n",
              "      <td>2</td>\n",
              "      <td>5</td>\n",
              "      <td>5</td>\n",
              "      <td>0</td>\n",
              "      <td>1</td>\n",
              "      <td>1</td>\n",
              "      <td>4</td>\n",
              "      <td>0</td>\n",
              "      <td>1</td>\n",
              "      <td>2</td>\n",
              "    </tr>\n",
              "    <tr>\n",
              "      <th>8119</th>\n",
              "      <td>0</td>\n",
              "      <td>5</td>\n",
              "      <td>2</td>\n",
              "      <td>4</td>\n",
              "      <td>0</td>\n",
              "      <td>5</td>\n",
              "      <td>0</td>\n",
              "      <td>0</td>\n",
              "      <td>0</td>\n",
              "      <td>11</td>\n",
              "      <td>...</td>\n",
              "      <td>2</td>\n",
              "      <td>5</td>\n",
              "      <td>5</td>\n",
              "      <td>0</td>\n",
              "      <td>0</td>\n",
              "      <td>1</td>\n",
              "      <td>4</td>\n",
              "      <td>0</td>\n",
              "      <td>4</td>\n",
              "      <td>2</td>\n",
              "    </tr>\n",
              "    <tr>\n",
              "      <th>8120</th>\n",
              "      <td>0</td>\n",
              "      <td>2</td>\n",
              "      <td>2</td>\n",
              "      <td>4</td>\n",
              "      <td>0</td>\n",
              "      <td>5</td>\n",
              "      <td>0</td>\n",
              "      <td>0</td>\n",
              "      <td>0</td>\n",
              "      <td>5</td>\n",
              "      <td>...</td>\n",
              "      <td>2</td>\n",
              "      <td>5</td>\n",
              "      <td>5</td>\n",
              "      <td>0</td>\n",
              "      <td>1</td>\n",
              "      <td>1</td>\n",
              "      <td>4</td>\n",
              "      <td>0</td>\n",
              "      <td>1</td>\n",
              "      <td>2</td>\n",
              "    </tr>\n",
              "    <tr>\n",
              "      <th>8121</th>\n",
              "      <td>1</td>\n",
              "      <td>3</td>\n",
              "      <td>3</td>\n",
              "      <td>4</td>\n",
              "      <td>0</td>\n",
              "      <td>8</td>\n",
              "      <td>1</td>\n",
              "      <td>0</td>\n",
              "      <td>1</td>\n",
              "      <td>0</td>\n",
              "      <td>...</td>\n",
              "      <td>1</td>\n",
              "      <td>7</td>\n",
              "      <td>7</td>\n",
              "      <td>0</td>\n",
              "      <td>2</td>\n",
              "      <td>1</td>\n",
              "      <td>0</td>\n",
              "      <td>7</td>\n",
              "      <td>4</td>\n",
              "      <td>2</td>\n",
              "    </tr>\n",
              "    <tr>\n",
              "      <th>8122</th>\n",
              "      <td>0</td>\n",
              "      <td>5</td>\n",
              "      <td>2</td>\n",
              "      <td>4</td>\n",
              "      <td>0</td>\n",
              "      <td>5</td>\n",
              "      <td>0</td>\n",
              "      <td>0</td>\n",
              "      <td>0</td>\n",
              "      <td>11</td>\n",
              "      <td>...</td>\n",
              "      <td>2</td>\n",
              "      <td>5</td>\n",
              "      <td>5</td>\n",
              "      <td>0</td>\n",
              "      <td>1</td>\n",
              "      <td>1</td>\n",
              "      <td>4</td>\n",
              "      <td>4</td>\n",
              "      <td>1</td>\n",
              "      <td>2</td>\n",
              "    </tr>\n",
              "  </tbody>\n",
              "</table>\n",
              "<p>8123 rows × 23 columns</p>\n",
              "</div>\n",
              "      <button class=\"colab-df-convert\" onclick=\"convertToInteractive('df-5fa1928c-a840-45ed-a638-e6ee50d5b881')\"\n",
              "              title=\"Convert this dataframe to an interactive table.\"\n",
              "              style=\"display:none;\">\n",
              "        \n",
              "  <svg xmlns=\"http://www.w3.org/2000/svg\" height=\"24px\"viewBox=\"0 0 24 24\"\n",
              "       width=\"24px\">\n",
              "    <path d=\"M0 0h24v24H0V0z\" fill=\"none\"/>\n",
              "    <path d=\"M18.56 5.44l.94 2.06.94-2.06 2.06-.94-2.06-.94-.94-2.06-.94 2.06-2.06.94zm-11 1L8.5 8.5l.94-2.06 2.06-.94-2.06-.94L8.5 2.5l-.94 2.06-2.06.94zm10 10l.94 2.06.94-2.06 2.06-.94-2.06-.94-.94-2.06-.94 2.06-2.06.94z\"/><path d=\"M17.41 7.96l-1.37-1.37c-.4-.4-.92-.59-1.43-.59-.52 0-1.04.2-1.43.59L10.3 9.45l-7.72 7.72c-.78.78-.78 2.05 0 2.83L4 21.41c.39.39.9.59 1.41.59.51 0 1.02-.2 1.41-.59l7.78-7.78 2.81-2.81c.8-.78.8-2.07 0-2.86zM5.41 20L4 18.59l7.72-7.72 1.47 1.35L5.41 20z\"/>\n",
              "  </svg>\n",
              "      </button>\n",
              "      \n",
              "  <style>\n",
              "    .colab-df-container {\n",
              "      display:flex;\n",
              "      flex-wrap:wrap;\n",
              "      gap: 12px;\n",
              "    }\n",
              "\n",
              "    .colab-df-convert {\n",
              "      background-color: #E8F0FE;\n",
              "      border: none;\n",
              "      border-radius: 50%;\n",
              "      cursor: pointer;\n",
              "      display: none;\n",
              "      fill: #1967D2;\n",
              "      height: 32px;\n",
              "      padding: 0 0 0 0;\n",
              "      width: 32px;\n",
              "    }\n",
              "\n",
              "    .colab-df-convert:hover {\n",
              "      background-color: #E2EBFA;\n",
              "      box-shadow: 0px 1px 2px rgba(60, 64, 67, 0.3), 0px 1px 3px 1px rgba(60, 64, 67, 0.15);\n",
              "      fill: #174EA6;\n",
              "    }\n",
              "\n",
              "    [theme=dark] .colab-df-convert {\n",
              "      background-color: #3B4455;\n",
              "      fill: #D2E3FC;\n",
              "    }\n",
              "\n",
              "    [theme=dark] .colab-df-convert:hover {\n",
              "      background-color: #434B5C;\n",
              "      box-shadow: 0px 1px 3px 1px rgba(0, 0, 0, 0.15);\n",
              "      filter: drop-shadow(0px 1px 2px rgba(0, 0, 0, 0.3));\n",
              "      fill: #FFFFFF;\n",
              "    }\n",
              "  </style>\n",
              "\n",
              "      <script>\n",
              "        const buttonEl =\n",
              "          document.querySelector('#df-5fa1928c-a840-45ed-a638-e6ee50d5b881 button.colab-df-convert');\n",
              "        buttonEl.style.display =\n",
              "          google.colab.kernel.accessAllowed ? 'block' : 'none';\n",
              "\n",
              "        async function convertToInteractive(key) {\n",
              "          const element = document.querySelector('#df-5fa1928c-a840-45ed-a638-e6ee50d5b881');\n",
              "          const dataTable =\n",
              "            await google.colab.kernel.invokeFunction('convertToInteractive',\n",
              "                                                     [key], {});\n",
              "          if (!dataTable) return;\n",
              "\n",
              "          const docLinkHtml = 'Like what you see? Visit the ' +\n",
              "            '<a target=\"_blank\" href=https://colab.research.google.com/notebooks/data_table.ipynb>data table notebook</a>'\n",
              "            + ' to learn more about interactive tables.';\n",
              "          element.innerHTML = '';\n",
              "          dataTable['output_type'] = 'display_data';\n",
              "          await google.colab.output.renderOutput(dataTable, element);\n",
              "          const docLink = document.createElement('div');\n",
              "          docLink.innerHTML = docLinkHtml;\n",
              "          element.appendChild(docLink);\n",
              "        }\n",
              "      </script>\n",
              "    </div>\n",
              "  </div>\n",
              "  "
            ]
          },
          "metadata": {},
          "execution_count": 58
        }
      ],
      "source": [
        "from sklearn import preprocessing\n",
        "\n",
        "data = pd.read_csv('agaricus-lepiota.data')\n",
        "for i in data.columns:\n",
        "  data[i] = preprocessing.LabelEncoder().fit(data[i]).transform(data[i])\n",
        "data"
      ]
    },
    {
      "cell_type": "code",
      "source": [
        "y = data['p']\n",
        "#y"
      ],
      "metadata": {
        "id": "cVLl_me44E3J"
      },
      "execution_count": 83,
      "outputs": []
    },
    {
      "cell_type": "code",
      "source": [
        "data.columns"
      ],
      "metadata": {
        "colab": {
          "base_uri": "https://localhost:8080/"
        },
        "id": "QMV6Cobe7DgE",
        "outputId": "8c1e2b2a-0371-4832-84bb-83ca49ec3d52"
      },
      "execution_count": 88,
      "outputs": [
        {
          "output_type": "execute_result",
          "data": {
            "text/plain": [
              "Index(['p', 'x', 's', 'n', 't', 'p.1', 'f', 'c', 'n.1', 'k', 'e', 'e.1', 's.1',\n",
              "       's.2', 'w', 'w.1', 'p.2', 'w.2', 'o', 'p.3', 'k.1', 's.3', 'u'],\n",
              "      dtype='object')"
            ]
          },
          "metadata": {},
          "execution_count": 88
        }
      ]
    },
    {
      "cell_type": "code",
      "source": [
        "X = data[['x', 's', 'n', 't', 'p.1', 'f', 'c', 'n.1', 'k', 'e', 'e.1', 's.1',\n",
        "       's.2', 'w', 'w.1', 'p.2', 'w.2', 'o', 'p.3', 'k.1', 's.3', 'u']]\n",
        "X = data.iloc[:, data.columns != 'p']\n",
        "#X"
      ],
      "metadata": {
        "id": "XHzQ18ZB4LKT"
      },
      "execution_count": 96,
      "outputs": []
    },
    {
      "cell_type": "code",
      "source": [
        "X_train, X_test, y_train, y_test = train_test_split(X, y, test_size=0.5)\n",
        "dtr = DecisionTree(np.array(['categorical' for i in range(X.shape[1])]))\n",
        "dtr.fit(X_train, y_train)\n",
        "print(accuracy_score(dtr.predict(X_test), y_test))"
      ],
      "metadata": {
        "colab": {
          "base_uri": "https://localhost:8080/",
          "height": 502
        },
        "id": "3B5hqBOI4Pq_",
        "outputId": "98f73d47-29e4-45b9-b867-ba9784d6c078"
      },
      "execution_count": 97,
      "outputs": [
        {
          "output_type": "error",
          "ename": "KeyError",
          "evalue": "ignored",
          "traceback": [
            "\u001b[0;31m---------------------------------------------------------------------------\u001b[0m",
            "\u001b[0;31mKeyError\u001b[0m                                  Traceback (most recent call last)",
            "\u001b[0;32m/usr/local/lib/python3.10/dist-packages/pandas/core/indexes/base.py\u001b[0m in \u001b[0;36mget_loc\u001b[0;34m(self, key, method, tolerance)\u001b[0m\n\u001b[1;32m   3801\u001b[0m             \u001b[0;32mtry\u001b[0m\u001b[0;34m:\u001b[0m\u001b[0;34m\u001b[0m\u001b[0;34m\u001b[0m\u001b[0m\n\u001b[0;32m-> 3802\u001b[0;31m                 \u001b[0;32mreturn\u001b[0m \u001b[0mself\u001b[0m\u001b[0;34m.\u001b[0m\u001b[0m_engine\u001b[0m\u001b[0;34m.\u001b[0m\u001b[0mget_loc\u001b[0m\u001b[0;34m(\u001b[0m\u001b[0mcasted_key\u001b[0m\u001b[0;34m)\u001b[0m\u001b[0;34m\u001b[0m\u001b[0;34m\u001b[0m\u001b[0m\n\u001b[0m\u001b[1;32m   3803\u001b[0m             \u001b[0;32mexcept\u001b[0m \u001b[0mKeyError\u001b[0m \u001b[0;32mas\u001b[0m \u001b[0merr\u001b[0m\u001b[0;34m:\u001b[0m\u001b[0;34m\u001b[0m\u001b[0;34m\u001b[0m\u001b[0m\n",
            "\u001b[0;32m/usr/local/lib/python3.10/dist-packages/pandas/_libs/index.pyx\u001b[0m in \u001b[0;36mpandas._libs.index.IndexEngine.get_loc\u001b[0;34m()\u001b[0m\n",
            "\u001b[0;32m/usr/local/lib/python3.10/dist-packages/pandas/_libs/index.pyx\u001b[0m in \u001b[0;36mpandas._libs.index.IndexEngine.get_loc\u001b[0;34m()\u001b[0m\n",
            "\u001b[0;32mpandas/_libs/hashtable_class_helper.pxi\u001b[0m in \u001b[0;36mpandas._libs.hashtable.Int64HashTable.get_item\u001b[0;34m()\u001b[0m\n",
            "\u001b[0;32mpandas/_libs/hashtable_class_helper.pxi\u001b[0m in \u001b[0;36mpandas._libs.hashtable.Int64HashTable.get_item\u001b[0;34m()\u001b[0m\n",
            "\u001b[0;31mKeyError\u001b[0m: 0",
            "\nThe above exception was the direct cause of the following exception:\n",
            "\u001b[0;31mKeyError\u001b[0m                                  Traceback (most recent call last)",
            "\u001b[0;32m<ipython-input-97-2908183244df>\u001b[0m in \u001b[0;36m<cell line: 3>\u001b[0;34m()\u001b[0m\n\u001b[1;32m      1\u001b[0m \u001b[0mX_train\u001b[0m\u001b[0;34m,\u001b[0m \u001b[0mX_test\u001b[0m\u001b[0;34m,\u001b[0m \u001b[0my_train\u001b[0m\u001b[0;34m,\u001b[0m \u001b[0my_test\u001b[0m \u001b[0;34m=\u001b[0m \u001b[0mtrain_test_split\u001b[0m\u001b[0;34m(\u001b[0m\u001b[0mX\u001b[0m\u001b[0;34m,\u001b[0m \u001b[0my\u001b[0m\u001b[0;34m,\u001b[0m \u001b[0mtest_size\u001b[0m\u001b[0;34m=\u001b[0m\u001b[0;36m0.5\u001b[0m\u001b[0;34m)\u001b[0m\u001b[0;34m\u001b[0m\u001b[0;34m\u001b[0m\u001b[0m\n\u001b[1;32m      2\u001b[0m \u001b[0mdtr\u001b[0m \u001b[0;34m=\u001b[0m \u001b[0mDecisionTree\u001b[0m\u001b[0;34m(\u001b[0m\u001b[0mnp\u001b[0m\u001b[0;34m.\u001b[0m\u001b[0marray\u001b[0m\u001b[0;34m(\u001b[0m\u001b[0;34m[\u001b[0m\u001b[0;34m'categorical'\u001b[0m \u001b[0;32mfor\u001b[0m \u001b[0mi\u001b[0m \u001b[0;32min\u001b[0m \u001b[0mrange\u001b[0m\u001b[0;34m(\u001b[0m\u001b[0mX\u001b[0m\u001b[0;34m.\u001b[0m\u001b[0mshape\u001b[0m\u001b[0;34m[\u001b[0m\u001b[0;36m1\u001b[0m\u001b[0;34m]\u001b[0m\u001b[0;34m)\u001b[0m\u001b[0;34m]\u001b[0m\u001b[0;34m)\u001b[0m\u001b[0;34m)\u001b[0m\u001b[0;34m\u001b[0m\u001b[0;34m\u001b[0m\u001b[0m\n\u001b[0;32m----> 3\u001b[0;31m \u001b[0mdtr\u001b[0m\u001b[0;34m.\u001b[0m\u001b[0mfit\u001b[0m\u001b[0;34m(\u001b[0m\u001b[0mX_train\u001b[0m\u001b[0;34m,\u001b[0m \u001b[0my_train\u001b[0m\u001b[0;34m)\u001b[0m\u001b[0;34m\u001b[0m\u001b[0;34m\u001b[0m\u001b[0m\n\u001b[0m\u001b[1;32m      4\u001b[0m \u001b[0mprint\u001b[0m\u001b[0;34m(\u001b[0m\u001b[0maccuracy_score\u001b[0m\u001b[0;34m(\u001b[0m\u001b[0mdtr\u001b[0m\u001b[0;34m.\u001b[0m\u001b[0mpredict\u001b[0m\u001b[0;34m(\u001b[0m\u001b[0mX_test\u001b[0m\u001b[0;34m)\u001b[0m\u001b[0;34m,\u001b[0m \u001b[0my_test\u001b[0m\u001b[0;34m)\u001b[0m\u001b[0;34m)\u001b[0m\u001b[0;34m\u001b[0m\u001b[0;34m\u001b[0m\u001b[0m\n",
            "\u001b[0;32m<ipython-input-46-556e4f8f5054>\u001b[0m in \u001b[0;36mfit\u001b[0;34m(self, X, y)\u001b[0m\n\u001b[1;32m    112\u001b[0m \u001b[0;34m\u001b[0m\u001b[0m\n\u001b[1;32m    113\u001b[0m     \u001b[0;32mdef\u001b[0m \u001b[0mfit\u001b[0m\u001b[0;34m(\u001b[0m\u001b[0mself\u001b[0m\u001b[0;34m,\u001b[0m \u001b[0mX\u001b[0m\u001b[0;34m:\u001b[0m \u001b[0mnp\u001b[0m\u001b[0;34m.\u001b[0m\u001b[0mndarray\u001b[0m\u001b[0;34m,\u001b[0m \u001b[0my\u001b[0m\u001b[0;34m:\u001b[0m \u001b[0mnp\u001b[0m\u001b[0;34m.\u001b[0m\u001b[0mndarray\u001b[0m\u001b[0;34m)\u001b[0m \u001b[0;34m->\u001b[0m \u001b[0;32mNone\u001b[0m\u001b[0;34m:\u001b[0m\u001b[0;34m\u001b[0m\u001b[0;34m\u001b[0m\u001b[0m\n\u001b[0;32m--> 114\u001b[0;31m         \u001b[0mself\u001b[0m\u001b[0;34m.\u001b[0m\u001b[0m_fit_node\u001b[0m\u001b[0;34m(\u001b[0m\u001b[0mX\u001b[0m\u001b[0;34m,\u001b[0m \u001b[0my\u001b[0m\u001b[0;34m,\u001b[0m \u001b[0mself\u001b[0m\u001b[0;34m.\u001b[0m\u001b[0m_tree\u001b[0m\u001b[0;34m)\u001b[0m\u001b[0;34m\u001b[0m\u001b[0;34m\u001b[0m\u001b[0m\n\u001b[0m\u001b[1;32m    115\u001b[0m \u001b[0;34m\u001b[0m\u001b[0m\n\u001b[1;32m    116\u001b[0m     \u001b[0;32mdef\u001b[0m \u001b[0mpredict\u001b[0m\u001b[0;34m(\u001b[0m\u001b[0mself\u001b[0m\u001b[0;34m,\u001b[0m \u001b[0mX\u001b[0m\u001b[0;34m:\u001b[0m \u001b[0mnp\u001b[0m\u001b[0;34m.\u001b[0m\u001b[0mndarray\u001b[0m\u001b[0;34m)\u001b[0m \u001b[0;34m->\u001b[0m \u001b[0mnp\u001b[0m\u001b[0;34m.\u001b[0m\u001b[0mndarray\u001b[0m\u001b[0;34m:\u001b[0m\u001b[0;34m\u001b[0m\u001b[0;34m\u001b[0m\u001b[0m\n",
            "\u001b[0;32m<ipython-input-46-556e4f8f5054>\u001b[0m in \u001b[0;36m_fit_node\u001b[0;34m(self, sub_X, sub_y, node)\u001b[0m\n\u001b[1;32m     34\u001b[0m \u001b[0;34m\u001b[0m\u001b[0m\n\u001b[1;32m     35\u001b[0m         \u001b[0;31m# критерий останова\u001b[0m\u001b[0;34m\u001b[0m\u001b[0;34m\u001b[0m\u001b[0m\n\u001b[0;32m---> 36\u001b[0;31m         \u001b[0;32mif\u001b[0m \u001b[0mnp\u001b[0m\u001b[0;34m.\u001b[0m\u001b[0mall\u001b[0m\u001b[0;34m(\u001b[0m\u001b[0msub_y\u001b[0m \u001b[0;34m==\u001b[0m \u001b[0msub_y\u001b[0m\u001b[0;34m[\u001b[0m\u001b[0;36m0\u001b[0m\u001b[0;34m]\u001b[0m\u001b[0;34m)\u001b[0m\u001b[0;34m:\u001b[0m\u001b[0;34m\u001b[0m\u001b[0;34m\u001b[0m\u001b[0m\n\u001b[0m\u001b[1;32m     37\u001b[0m             \u001b[0mnode\u001b[0m\u001b[0;34m[\u001b[0m\u001b[0;34m\"type\"\u001b[0m\u001b[0;34m]\u001b[0m \u001b[0;34m=\u001b[0m \u001b[0;34m\"terminal\"\u001b[0m\u001b[0;34m\u001b[0m\u001b[0;34m\u001b[0m\u001b[0m\n\u001b[1;32m     38\u001b[0m             \u001b[0mnode\u001b[0m\u001b[0;34m[\u001b[0m\u001b[0;34m\"class\"\u001b[0m\u001b[0;34m]\u001b[0m \u001b[0;34m=\u001b[0m \u001b[0msub_y\u001b[0m\u001b[0;34m[\u001b[0m\u001b[0;36m0\u001b[0m\u001b[0;34m]\u001b[0m\u001b[0;34m\u001b[0m\u001b[0;34m\u001b[0m\u001b[0m\n",
            "\u001b[0;32m/usr/local/lib/python3.10/dist-packages/pandas/core/series.py\u001b[0m in \u001b[0;36m__getitem__\u001b[0;34m(self, key)\u001b[0m\n\u001b[1;32m    979\u001b[0m \u001b[0;34m\u001b[0m\u001b[0m\n\u001b[1;32m    980\u001b[0m         \u001b[0;32melif\u001b[0m \u001b[0mkey_is_scalar\u001b[0m\u001b[0;34m:\u001b[0m\u001b[0;34m\u001b[0m\u001b[0;34m\u001b[0m\u001b[0m\n\u001b[0;32m--> 981\u001b[0;31m             \u001b[0;32mreturn\u001b[0m \u001b[0mself\u001b[0m\u001b[0;34m.\u001b[0m\u001b[0m_get_value\u001b[0m\u001b[0;34m(\u001b[0m\u001b[0mkey\u001b[0m\u001b[0;34m)\u001b[0m\u001b[0;34m\u001b[0m\u001b[0;34m\u001b[0m\u001b[0m\n\u001b[0m\u001b[1;32m    982\u001b[0m \u001b[0;34m\u001b[0m\u001b[0m\n\u001b[1;32m    983\u001b[0m         \u001b[0;32mif\u001b[0m \u001b[0mis_hashable\u001b[0m\u001b[0;34m(\u001b[0m\u001b[0mkey\u001b[0m\u001b[0;34m)\u001b[0m\u001b[0;34m:\u001b[0m\u001b[0;34m\u001b[0m\u001b[0;34m\u001b[0m\u001b[0m\n",
            "\u001b[0;32m/usr/local/lib/python3.10/dist-packages/pandas/core/series.py\u001b[0m in \u001b[0;36m_get_value\u001b[0;34m(self, label, takeable)\u001b[0m\n\u001b[1;32m   1087\u001b[0m \u001b[0;34m\u001b[0m\u001b[0m\n\u001b[1;32m   1088\u001b[0m         \u001b[0;31m# Similar to Index.get_value, but we do not fall back to positional\u001b[0m\u001b[0;34m\u001b[0m\u001b[0;34m\u001b[0m\u001b[0m\n\u001b[0;32m-> 1089\u001b[0;31m         \u001b[0mloc\u001b[0m \u001b[0;34m=\u001b[0m \u001b[0mself\u001b[0m\u001b[0;34m.\u001b[0m\u001b[0mindex\u001b[0m\u001b[0;34m.\u001b[0m\u001b[0mget_loc\u001b[0m\u001b[0;34m(\u001b[0m\u001b[0mlabel\u001b[0m\u001b[0;34m)\u001b[0m\u001b[0;34m\u001b[0m\u001b[0;34m\u001b[0m\u001b[0m\n\u001b[0m\u001b[1;32m   1090\u001b[0m         \u001b[0;32mreturn\u001b[0m \u001b[0mself\u001b[0m\u001b[0;34m.\u001b[0m\u001b[0mindex\u001b[0m\u001b[0;34m.\u001b[0m\u001b[0m_get_values_for_loc\u001b[0m\u001b[0;34m(\u001b[0m\u001b[0mself\u001b[0m\u001b[0;34m,\u001b[0m \u001b[0mloc\u001b[0m\u001b[0;34m,\u001b[0m \u001b[0mlabel\u001b[0m\u001b[0;34m)\u001b[0m\u001b[0;34m\u001b[0m\u001b[0;34m\u001b[0m\u001b[0m\n\u001b[1;32m   1091\u001b[0m \u001b[0;34m\u001b[0m\u001b[0m\n",
            "\u001b[0;32m/usr/local/lib/python3.10/dist-packages/pandas/core/indexes/base.py\u001b[0m in \u001b[0;36mget_loc\u001b[0;34m(self, key, method, tolerance)\u001b[0m\n\u001b[1;32m   3802\u001b[0m                 \u001b[0;32mreturn\u001b[0m \u001b[0mself\u001b[0m\u001b[0;34m.\u001b[0m\u001b[0m_engine\u001b[0m\u001b[0;34m.\u001b[0m\u001b[0mget_loc\u001b[0m\u001b[0;34m(\u001b[0m\u001b[0mcasted_key\u001b[0m\u001b[0;34m)\u001b[0m\u001b[0;34m\u001b[0m\u001b[0;34m\u001b[0m\u001b[0m\n\u001b[1;32m   3803\u001b[0m             \u001b[0;32mexcept\u001b[0m \u001b[0mKeyError\u001b[0m \u001b[0;32mas\u001b[0m \u001b[0merr\u001b[0m\u001b[0;34m:\u001b[0m\u001b[0;34m\u001b[0m\u001b[0;34m\u001b[0m\u001b[0m\n\u001b[0;32m-> 3804\u001b[0;31m                 \u001b[0;32mraise\u001b[0m \u001b[0mKeyError\u001b[0m\u001b[0;34m(\u001b[0m\u001b[0mkey\u001b[0m\u001b[0;34m)\u001b[0m \u001b[0;32mfrom\u001b[0m \u001b[0merr\u001b[0m\u001b[0;34m\u001b[0m\u001b[0;34m\u001b[0m\u001b[0m\n\u001b[0m\u001b[1;32m   3805\u001b[0m             \u001b[0;32mexcept\u001b[0m \u001b[0mTypeError\u001b[0m\u001b[0;34m:\u001b[0m\u001b[0;34m\u001b[0m\u001b[0;34m\u001b[0m\u001b[0m\n\u001b[1;32m   3806\u001b[0m                 \u001b[0;31m# If we have a listlike key, _check_indexing_error will raise\u001b[0m\u001b[0;34m\u001b[0m\u001b[0;34m\u001b[0m\u001b[0m\n",
            "\u001b[0;31mKeyError\u001b[0m: 0"
          ]
        }
      ]
    },
    {
      "cell_type": "markdown",
      "source": [
        "не нашел ошибку :("
      ],
      "metadata": {
        "id": "YanYRAtM8MDz"
      }
    },
    {
      "cell_type": "markdown",
      "metadata": {
        "id": "K6zHimg9CeSY"
      },
      "source": [
        "## Часть 3: Бэггинг и случайный лес (4 балла)"
      ]
    },
    {
      "cell_type": "markdown",
      "metadata": {
        "id": "4h1U7CHsCeSY"
      },
      "source": [
        "В данной части мы будем работать [с задачей предсказания диабета у пациента](https://www.kaggle.com/uciml/pima-indians-diabetes-database/data). Посмотрим на работу бэггинга над решающими деревьями и случайного леса, сравним их работу."
      ]
    },
    {
      "cell_type": "code",
      "execution_count": 25,
      "metadata": {
        "id": "VXxLzlQMCeSZ"
      },
      "outputs": [],
      "source": [
        "from sklearn.ensemble import BaggingClassifier, RandomForestClassifier\n",
        "from sklearn.metrics import accuracy_score, precision_score, recall_score, roc_auc_score\n",
        "from sklearn.model_selection import train_test_split\n",
        "from sklearn.tree import DecisionTreeClassifier"
      ]
    },
    {
      "cell_type": "code",
      "execution_count": 26,
      "metadata": {
        "id": "QY__PBO6CeSZ",
        "scrolled": true,
        "colab": {
          "base_uri": "https://localhost:8080/",
          "height": 267
        },
        "outputId": "a282172f-72ae-4bb2-a12e-d32c8bb2d264"
      },
      "outputs": [
        {
          "output_type": "stream",
          "name": "stdout",
          "text": [
            "Dataset shape: (768, 9)\n"
          ]
        },
        {
          "output_type": "execute_result",
          "data": {
            "text/plain": [
              "   Pregnancies  Glucose  BloodPressure  SkinThickness  Insulin   BMI  \\\n",
              "0            6      148             72             35        0  33.6   \n",
              "1            1       85             66             29        0  26.6   \n",
              "2            8      183             64              0        0  23.3   \n",
              "3            1       89             66             23       94  28.1   \n",
              "4            0      137             40             35      168  43.1   \n",
              "\n",
              "   DiabetesPedigreeFunction  Age  Outcome  \n",
              "0                     0.627   50        1  \n",
              "1                     0.351   31        0  \n",
              "2                     0.672   32        1  \n",
              "3                     0.167   21        0  \n",
              "4                     2.288   33        1  "
            ],
            "text/html": [
              "\n",
              "  <div id=\"df-8242abc1-59f4-4c52-89e2-0ace25f444ea\">\n",
              "    <div class=\"colab-df-container\">\n",
              "      <div>\n",
              "<style scoped>\n",
              "    .dataframe tbody tr th:only-of-type {\n",
              "        vertical-align: middle;\n",
              "    }\n",
              "\n",
              "    .dataframe tbody tr th {\n",
              "        vertical-align: top;\n",
              "    }\n",
              "\n",
              "    .dataframe thead th {\n",
              "        text-align: right;\n",
              "    }\n",
              "</style>\n",
              "<table border=\"1\" class=\"dataframe\">\n",
              "  <thead>\n",
              "    <tr style=\"text-align: right;\">\n",
              "      <th></th>\n",
              "      <th>Pregnancies</th>\n",
              "      <th>Glucose</th>\n",
              "      <th>BloodPressure</th>\n",
              "      <th>SkinThickness</th>\n",
              "      <th>Insulin</th>\n",
              "      <th>BMI</th>\n",
              "      <th>DiabetesPedigreeFunction</th>\n",
              "      <th>Age</th>\n",
              "      <th>Outcome</th>\n",
              "    </tr>\n",
              "  </thead>\n",
              "  <tbody>\n",
              "    <tr>\n",
              "      <th>0</th>\n",
              "      <td>6</td>\n",
              "      <td>148</td>\n",
              "      <td>72</td>\n",
              "      <td>35</td>\n",
              "      <td>0</td>\n",
              "      <td>33.6</td>\n",
              "      <td>0.627</td>\n",
              "      <td>50</td>\n",
              "      <td>1</td>\n",
              "    </tr>\n",
              "    <tr>\n",
              "      <th>1</th>\n",
              "      <td>1</td>\n",
              "      <td>85</td>\n",
              "      <td>66</td>\n",
              "      <td>29</td>\n",
              "      <td>0</td>\n",
              "      <td>26.6</td>\n",
              "      <td>0.351</td>\n",
              "      <td>31</td>\n",
              "      <td>0</td>\n",
              "    </tr>\n",
              "    <tr>\n",
              "      <th>2</th>\n",
              "      <td>8</td>\n",
              "      <td>183</td>\n",
              "      <td>64</td>\n",
              "      <td>0</td>\n",
              "      <td>0</td>\n",
              "      <td>23.3</td>\n",
              "      <td>0.672</td>\n",
              "      <td>32</td>\n",
              "      <td>1</td>\n",
              "    </tr>\n",
              "    <tr>\n",
              "      <th>3</th>\n",
              "      <td>1</td>\n",
              "      <td>89</td>\n",
              "      <td>66</td>\n",
              "      <td>23</td>\n",
              "      <td>94</td>\n",
              "      <td>28.1</td>\n",
              "      <td>0.167</td>\n",
              "      <td>21</td>\n",
              "      <td>0</td>\n",
              "    </tr>\n",
              "    <tr>\n",
              "      <th>4</th>\n",
              "      <td>0</td>\n",
              "      <td>137</td>\n",
              "      <td>40</td>\n",
              "      <td>35</td>\n",
              "      <td>168</td>\n",
              "      <td>43.1</td>\n",
              "      <td>2.288</td>\n",
              "      <td>33</td>\n",
              "      <td>1</td>\n",
              "    </tr>\n",
              "  </tbody>\n",
              "</table>\n",
              "</div>\n",
              "      <button class=\"colab-df-convert\" onclick=\"convertToInteractive('df-8242abc1-59f4-4c52-89e2-0ace25f444ea')\"\n",
              "              title=\"Convert this dataframe to an interactive table.\"\n",
              "              style=\"display:none;\">\n",
              "        \n",
              "  <svg xmlns=\"http://www.w3.org/2000/svg\" height=\"24px\"viewBox=\"0 0 24 24\"\n",
              "       width=\"24px\">\n",
              "    <path d=\"M0 0h24v24H0V0z\" fill=\"none\"/>\n",
              "    <path d=\"M18.56 5.44l.94 2.06.94-2.06 2.06-.94-2.06-.94-.94-2.06-.94 2.06-2.06.94zm-11 1L8.5 8.5l.94-2.06 2.06-.94-2.06-.94L8.5 2.5l-.94 2.06-2.06.94zm10 10l.94 2.06.94-2.06 2.06-.94-2.06-.94-.94-2.06-.94 2.06-2.06.94z\"/><path d=\"M17.41 7.96l-1.37-1.37c-.4-.4-.92-.59-1.43-.59-.52 0-1.04.2-1.43.59L10.3 9.45l-7.72 7.72c-.78.78-.78 2.05 0 2.83L4 21.41c.39.39.9.59 1.41.59.51 0 1.02-.2 1.41-.59l7.78-7.78 2.81-2.81c.8-.78.8-2.07 0-2.86zM5.41 20L4 18.59l7.72-7.72 1.47 1.35L5.41 20z\"/>\n",
              "  </svg>\n",
              "      </button>\n",
              "      \n",
              "  <style>\n",
              "    .colab-df-container {\n",
              "      display:flex;\n",
              "      flex-wrap:wrap;\n",
              "      gap: 12px;\n",
              "    }\n",
              "\n",
              "    .colab-df-convert {\n",
              "      background-color: #E8F0FE;\n",
              "      border: none;\n",
              "      border-radius: 50%;\n",
              "      cursor: pointer;\n",
              "      display: none;\n",
              "      fill: #1967D2;\n",
              "      height: 32px;\n",
              "      padding: 0 0 0 0;\n",
              "      width: 32px;\n",
              "    }\n",
              "\n",
              "    .colab-df-convert:hover {\n",
              "      background-color: #E2EBFA;\n",
              "      box-shadow: 0px 1px 2px rgba(60, 64, 67, 0.3), 0px 1px 3px 1px rgba(60, 64, 67, 0.15);\n",
              "      fill: #174EA6;\n",
              "    }\n",
              "\n",
              "    [theme=dark] .colab-df-convert {\n",
              "      background-color: #3B4455;\n",
              "      fill: #D2E3FC;\n",
              "    }\n",
              "\n",
              "    [theme=dark] .colab-df-convert:hover {\n",
              "      background-color: #434B5C;\n",
              "      box-shadow: 0px 1px 3px 1px rgba(0, 0, 0, 0.15);\n",
              "      filter: drop-shadow(0px 1px 2px rgba(0, 0, 0, 0.3));\n",
              "      fill: #FFFFFF;\n",
              "    }\n",
              "  </style>\n",
              "\n",
              "      <script>\n",
              "        const buttonEl =\n",
              "          document.querySelector('#df-8242abc1-59f4-4c52-89e2-0ace25f444ea button.colab-df-convert');\n",
              "        buttonEl.style.display =\n",
              "          google.colab.kernel.accessAllowed ? 'block' : 'none';\n",
              "\n",
              "        async function convertToInteractive(key) {\n",
              "          const element = document.querySelector('#df-8242abc1-59f4-4c52-89e2-0ace25f444ea');\n",
              "          const dataTable =\n",
              "            await google.colab.kernel.invokeFunction('convertToInteractive',\n",
              "                                                     [key], {});\n",
              "          if (!dataTable) return;\n",
              "\n",
              "          const docLinkHtml = 'Like what you see? Visit the ' +\n",
              "            '<a target=\"_blank\" href=https://colab.research.google.com/notebooks/data_table.ipynb>data table notebook</a>'\n",
              "            + ' to learn more about interactive tables.';\n",
              "          element.innerHTML = '';\n",
              "          dataTable['output_type'] = 'display_data';\n",
              "          await google.colab.output.renderOutput(dataTable, element);\n",
              "          const docLink = document.createElement('div');\n",
              "          docLink.innerHTML = docLinkHtml;\n",
              "          element.appendChild(docLink);\n",
              "        }\n",
              "      </script>\n",
              "    </div>\n",
              "  </div>\n",
              "  "
            ]
          },
          "metadata": {},
          "execution_count": 26
        }
      ],
      "source": [
        "data = pd.read_csv('diabetes.csv')\n",
        "print(f\"Dataset shape: {data.shape}\")\n",
        "data.head()"
      ]
    },
    {
      "cell_type": "markdown",
      "metadata": {
        "id": "dNMvNzb_CeSZ"
      },
      "source": [
        "Посмотрим на распределение целевой переменной"
      ]
    },
    {
      "cell_type": "code",
      "execution_count": 27,
      "metadata": {
        "id": "Dw2NLnS5CeSa",
        "colab": {
          "base_uri": "https://localhost:8080/",
          "height": 430
        },
        "outputId": "02fc3e64-e180-4147-a1e7-0d8b12463975"
      },
      "outputs": [
        {
          "output_type": "display_data",
          "data": {
            "text/plain": [
              "<Figure size 640x480 with 1 Axes>"
            ],
            "image/png": "[encoded data removed]"
          },
          "metadata": {}
        }
      ],
      "source": [
        "data['Outcome'].hist()\n",
        "plt.show()"
      ]
    },
    {
      "cell_type": "markdown",
      "metadata": {
        "id": "BRJFz9MqCeSa"
      },
      "source": [
        "**Задание 3.1 (0.5 балла)** Разделите данные на признаки и целевую переменную. Разбейте датасет на обучающую и тестовую части в отношении 7:3. Затем разделите обучающую выборку на обучающую-обучающую и обучающую-валидационную в соотношении 7:3 (то есть в итоге должно получиться три выборки: обучающая-обучающая (0.49 от исходного датасета), обучающая-валидационная (0.21 от исходного датасета) и тестовая (0.3 от исходного датасета)."
      ]
    },
    {
      "cell_type": "code",
      "execution_count": 28,
      "metadata": {
        "id": "ihp2KrS8CeSa"
      },
      "outputs": [],
      "source": [
        "X = data.drop(columns = 'Outcome')\n",
        "y = data['Outcome']\n",
        "X_train_full, X_test, y_train_full, y_test = train_test_split(X, y, test_size=0.3)\n",
        "X_train, X_val, y_train, y_val = train_test_split(X_train_full, y_train_full, test_size=0.3)\n"
      ]
    },
    {
      "cell_type": "markdown",
      "metadata": {
        "id": "EReOmQG1CeSa"
      },
      "source": [
        "**Задание 3.2 (1 балл)** На обучающей-валидационной выборке подберите оптимальные значения гиперпараметров `max_depth` и `min_samples_leaf` для `DecisionTreeClassifier`. Для этого:\n",
        "1. Создайте списки с возможными значениями для перебора.\n",
        "2. Для каждой пары значений обучите дерево на обучающей-обучающей выборке и определите качество на обучающей-валидационной выборке. В качестве критерия будем использовать `f1-меру`.\n",
        "3. Выберите ту пару значений, которая даёт наилучшее качество на обучающей-валидационной выборке. \n",
        "\n",
        "\n",
        "Обучите решающее дерево с подобранными гиперпараметрами на **полной обучающей** выборке. Оцените качество классификации на тестовой выборке по метрикам `accuracy`, `precision` и `recall`, `auc_roc`."
      ]
    },
    {
      "cell_type": "code",
      "execution_count": 29,
      "metadata": {
        "id": "Q4Hp1_hsCeSa",
        "colab": {
          "base_uri": "https://localhost:8080/"
        },
        "outputId": "24f79da5-fb79-48ea-afd1-828e29d0f751"
      },
      "outputs": [
        {
          "output_type": "stream",
          "name": "stdout",
          "text": [
            "1, 1 : 0.5384615384615384\n",
            "1, 2 : 0.5384615384615384\n",
            "1, 3 : 0.5384615384615384\n",
            "1, 4 : 0.5384615384615384\n",
            "1, 5 : 0.5384615384615384\n",
            "1, 6 : 0.5384615384615384\n",
            "1, 7 : 0.5384615384615384\n",
            "1, 8 : 0.5384615384615384\n",
            "1, 9 : 0.5384615384615384\n",
            "1, 10 : 0.5384615384615384\n",
            "1, 11 : 0.5384615384615384\n",
            "1, 12 : 0.5384615384615384\n",
            "1, 13 : 0.5384615384615384\n",
            "1, 14 : 0.5384615384615384\n",
            "1, 15 : 0.5384615384615384\n",
            "1, 16 : 0.5384615384615384\n",
            "1, 17 : 0.5384615384615384\n",
            "1, 18 : 0.5384615384615384\n",
            "1, 19 : 0.5384615384615384\n",
            "1, 20 : 0.5384615384615384\n",
            "2, 1 : 0.5581395348837209\n",
            "2, 2 : 0.5581395348837209\n",
            "2, 3 : 0.5581395348837209\n",
            "2, 4 : 0.5581395348837209\n",
            "2, 5 : 0.5581395348837209\n",
            "2, 6 : 0.5581395348837209\n",
            "2, 7 : 0.5581395348837209\n",
            "2, 8 : 0.5581395348837209\n",
            "2, 9 : 0.5581395348837209\n",
            "2, 10 : 0.5581395348837209\n",
            "2, 11 : 0.5581395348837209\n",
            "2, 12 : 0.5581395348837209\n",
            "2, 13 : 0.5581395348837209\n",
            "2, 14 : 0.5581395348837209\n",
            "2, 15 : 0.5581395348837209\n",
            "2, 16 : 0.5581395348837209\n",
            "2, 17 : 0.5581395348837209\n",
            "2, 18 : 0.5581395348837209\n",
            "2, 19 : 0.5581395348837209\n",
            "2, 20 : 0.5581395348837209\n",
            "3, 1 : 0.62\n",
            "3, 2 : 0.62\n",
            "3, 3 : 0.62\n",
            "3, 4 : 0.62\n",
            "3, 5 : 0.62\n",
            "3, 6 : 0.62\n",
            "3, 7 : 0.62\n",
            "3, 8 : 0.62\n",
            "3, 9 : 0.62\n",
            "3, 10 : 0.62\n",
            "3, 11 : 0.62\n",
            "3, 12 : 0.62\n",
            "3, 13 : 0.5617977528089889\n",
            "3, 14 : 0.5617977528089889\n",
            "3, 15 : 0.5617977528089889\n",
            "3, 16 : 0.5617977528089889\n",
            "3, 17 : 0.5263157894736842\n",
            "3, 18 : 0.5581395348837209\n",
            "3, 19 : 0.5581395348837209\n",
            "3, 20 : 0.5581395348837209\n",
            "4, 1 : 0.4772727272727273\n",
            "4, 2 : 0.4772727272727273\n",
            "4, 3 : 0.45238095238095233\n",
            "4, 4 : 0.45783132530120485\n",
            "4, 5 : 0.5376344086021505\n",
            "4, 6 : 0.5531914893617021\n",
            "4, 7 : 0.5531914893617021\n",
            "4, 8 : 0.5531914893617021\n",
            "4, 9 : 0.5473684210526316\n",
            "4, 10 : 0.5625\n",
            "4, 11 : 0.5625\n",
            "4, 12 : 0.5625\n",
            "4, 13 : 0.7096774193548387\n",
            "4, 14 : 0.7096774193548387\n",
            "4, 15 : 0.7096774193548387\n",
            "4, 16 : 0.6885245901639344\n",
            "4, 17 : 0.65625\n",
            "4, 18 : 0.689075630252101\n",
            "4, 19 : 0.6548672566371682\n",
            "4, 20 : 0.6548672566371682\n",
            "5, 1 : 0.4731182795698925\n",
            "5, 2 : 0.4782608695652174\n",
            "5, 3 : 0.5161290322580645\n",
            "5, 4 : 0.4597701149425288\n",
            "5, 5 : 0.5319148936170213\n",
            "5, 6 : 0.5473684210526316\n",
            "5, 7 : 0.5531914893617021\n",
            "5, 8 : 0.6122448979591837\n",
            "5, 9 : 0.5473684210526316\n",
            "5, 10 : 0.5625\n",
            "5, 11 : 0.5625\n",
            "5, 12 : 0.5625\n",
            "5, 13 : 0.6538461538461539\n",
            "5, 14 : 0.6538461538461539\n",
            "5, 15 : 0.6538461538461539\n",
            "5, 16 : 0.6407766990291262\n",
            "5, 17 : 0.6407766990291262\n",
            "5, 18 : 0.6486486486486486\n",
            "5, 19 : 0.6078431372549019\n",
            "5, 20 : 0.6138613861386139\n",
            "6, 1 : 0.5405405405405406\n",
            "6, 2 : 0.5283018867924528\n",
            "6, 3 : 0.5740740740740741\n",
            "6, 4 : 0.5242718446601942\n",
            "6, 5 : 0.5925925925925926\n",
            "6, 6 : 0.6055045871559632\n",
            "6, 7 : 0.611111111111111\n",
            "6, 8 : 0.6607142857142857\n",
            "6, 9 : 0.616822429906542\n",
            "6, 10 : 0.6296296296296297\n",
            "6, 11 : 0.6181818181818182\n",
            "6, 12 : 0.6181818181818182\n",
            "6, 13 : 0.7321428571428573\n",
            "6, 14 : 0.7321428571428573\n",
            "6, 15 : 0.7207207207207208\n",
            "6, 16 : 0.6972477064220183\n",
            "6, 17 : 0.6972477064220183\n",
            "6, 18 : 0.6486486486486486\n",
            "6, 19 : 0.6078431372549019\n",
            "6, 20 : 0.6138613861386139\n",
            "7, 1 : 0.4954128440366973\n",
            "7, 2 : 0.5094339622641509\n",
            "7, 3 : 0.5504587155963302\n",
            "7, 4 : 0.5050505050505051\n",
            "7, 5 : 0.5714285714285713\n",
            "7, 6 : 0.5631067961165048\n",
            "7, 7 : 0.5742574257425742\n",
            "7, 8 : 0.6285714285714284\n",
            "7, 9 : 0.58\n",
            "7, 10 : 0.594059405940594\n",
            "7, 11 : 0.5825242718446602\n",
            "7, 12 : 0.5825242718446602\n",
            "7, 13 : 0.709090909090909\n",
            "7, 14 : 0.709090909090909\n",
            "7, 15 : 0.7207207207207208\n",
            "7, 16 : 0.6972477064220183\n",
            "7, 17 : 0.6608695652173913\n",
            "7, 18 : 0.6486486486486486\n",
            "7, 19 : 0.6078431372549019\n",
            "7, 20 : 0.6138613861386139\n",
            "8, 1 : 0.537037037037037\n",
            "8, 2 : 0.5321100917431193\n",
            "8, 3 : 0.5283018867924528\n",
            "8, 4 : 0.52\n",
            "8, 5 : 0.5849056603773585\n",
            "8, 6 : 0.5714285714285713\n",
            "8, 7 : 0.6095238095238096\n",
            "8, 8 : 0.6285714285714284\n",
            "8, 9 : 0.58\n",
            "8, 10 : 0.594059405940594\n",
            "8, 11 : 0.5825242718446602\n",
            "8, 12 : 0.5825242718446602\n",
            "8, 13 : 0.709090909090909\n",
            "8, 14 : 0.709090909090909\n",
            "8, 15 : 0.7207207207207208\n",
            "8, 16 : 0.6972477064220183\n",
            "8, 17 : 0.6608695652173913\n",
            "8, 18 : 0.6486486486486486\n",
            "8, 19 : 0.6078431372549019\n",
            "8, 20 : 0.6138613861386139\n",
            "9, 1 : 0.5178571428571428\n",
            "9, 2 : 0.5094339622641509\n",
            "9, 3 : 0.49019607843137253\n",
            "9, 4 : 0.49484536082474223\n",
            "9, 5 : 0.5544554455445545\n",
            "9, 6 : 0.5686274509803921\n",
            "9, 7 : 0.5849056603773585\n",
            "9, 8 : 0.6285714285714284\n",
            "9, 9 : 0.58\n",
            "9, 10 : 0.594059405940594\n",
            "9, 11 : 0.5825242718446602\n",
            "9, 12 : 0.5825242718446602\n",
            "9, 13 : 0.709090909090909\n",
            "9, 14 : 0.709090909090909\n",
            "9, 15 : 0.7207207207207208\n",
            "9, 16 : 0.6972477064220183\n",
            "9, 17 : 0.6608695652173913\n",
            "9, 18 : 0.6486486486486486\n",
            "9, 19 : 0.6078431372549019\n",
            "9, 20 : 0.6138613861386139\n",
            "10, 1 : 0.5535714285714286\n",
            "10, 2 : 0.49056603773584906\n",
            "10, 3 : 0.48\n",
            "10, 4 : 0.4897959183673469\n",
            "10, 5 : 0.5544554455445545\n",
            "10, 6 : 0.5490196078431372\n",
            "10, 7 : 0.5849056603773585\n",
            "10, 8 : 0.6285714285714284\n",
            "10, 9 : 0.58\n",
            "10, 10 : 0.594059405940594\n",
            "10, 11 : 0.5825242718446602\n",
            "10, 12 : 0.5825242718446602\n",
            "10, 13 : 0.709090909090909\n",
            "10, 14 : 0.709090909090909\n",
            "10, 15 : 0.7207207207207208\n",
            "10, 16 : 0.6972477064220183\n",
            "10, 17 : 0.6972477064220183\n",
            "10, 18 : 0.6486486486486486\n",
            "10, 19 : 0.6078431372549019\n",
            "10, 20 : 0.6138613861386139\n"
          ]
        }
      ],
      "source": [
        "from sklearn.metrics import f1_score\n",
        "\n",
        "max_depth = [_ for _ in range(1,11)]\n",
        "#print(max_depth)\n",
        "min_samples_leaf = [_ for _ in range(1,21)]\n",
        "d = dict()\n",
        "for i in range(0,len(max_depth)):\n",
        "    for j in range(0,len(min_samples_leaf)):\n",
        "        clf = DecisionTreeClassifier(max_depth = max_depth[i], min_samples_leaf = min_samples_leaf[j])\n",
        "        clf.fit(X_train, y_train)\n",
        "        d[f'{max_depth[i]}, {min_samples_leaf[j]}'] = f1_score(y_val, clf.predict(X_val))\n",
        "\n",
        "for key,value in d.items():\n",
        "  print(key, ':', value)"
      ]
    },
    {
      "cell_type": "code",
      "source": [
        "print(max(d.values()))"
      ],
      "metadata": {
        "colab": {
          "base_uri": "https://localhost:8080/"
        },
        "id": "D3CZkYKMU-l5",
        "outputId": "246a488e-776d-4281-dc2d-932c10c77285"
      },
      "execution_count": 30,
      "outputs": [
        {
          "output_type": "stream",
          "name": "stdout",
          "text": [
            "0.7321428571428573\n"
          ]
        }
      ]
    },
    {
      "cell_type": "markdown",
      "source": [
        "Лучший результат -  6, 13 (лень писать поиск по словарю)\n",
        "(а еще 6, 14 - но выберу только один)"
      ],
      "metadata": {
        "id": "b6ajtKlAY05U"
      }
    },
    {
      "cell_type": "code",
      "source": [
        "clf = DecisionTreeClassifier(max_depth = 6, min_samples_leaf = 13)\n",
        "clf.fit(X_train_full, y_train_full)"
      ],
      "metadata": {
        "colab": {
          "base_uri": "https://localhost:8080/",
          "height": 74
        },
        "id": "AnI8Fbi1ZPVX",
        "outputId": "54d097fb-484c-4e54-d32a-a579cc295e21"
      },
      "execution_count": 32,
      "outputs": [
        {
          "output_type": "execute_result",
          "data": {
            "text/plain": [
              "DecisionTreeClassifier(max_depth=6, min_samples_leaf=13)"
            ],
            "text/html": [
              "<style>#sk-container-id-2 {color: black;background-color: white;}#sk-container-id-2 pre{padding: 0;}#sk-container-id-2 div.sk-toggleable {background-color: white;}#sk-container-id-2 label.sk-toggleable__label {cursor: pointer;display: block;width: 100%;margin-bottom: 0;padding: 0.3em;box-sizing: border-box;text-align: center;}#sk-container-id-2 label.sk-toggleable__label-arrow:before {content: \"▸\";float: left;margin-right: 0.25em;color: #696969;}#sk-container-id-2 label.sk-toggleable__label-arrow:hover:before {color: black;}#sk-container-id-2 div.sk-estimator:hover label.sk-toggleable__label-arrow:before {color: black;}#sk-container-id-2 div.sk-toggleable__content {max-height: 0;max-width: 0;overflow: hidden;text-align: left;background-color: #f0f8ff;}#sk-container-id-2 div.sk-toggleable__content pre {margin: 0.2em;color: black;border-radius: 0.25em;background-color: #f0f8ff;}#sk-container-id-2 input.sk-toggleable__control:checked~div.sk-toggleable__content {max-height: 200px;max-width: 100%;overflow: auto;}#sk-container-id-2 input.sk-toggleable__control:checked~label.sk-toggleable__label-arrow:before {content: \"▾\";}#sk-container-id-2 div.sk-estimator input.sk-toggleable__control:checked~label.sk-toggleable__label {background-color: #d4ebff;}#sk-container-id-2 div.sk-label input.sk-toggleable__control:checked~label.sk-toggleable__label {background-color: #d4ebff;}#sk-container-id-2 input.sk-hidden--visually {border: 0;clip: rect(1px 1px 1px 1px);clip: rect(1px, 1px, 1px, 1px);height: 1px;margin: -1px;overflow: hidden;padding: 0;position: absolute;width: 1px;}#sk-container-id-2 div.sk-estimator {font-family: monospace;background-color: #f0f8ff;border: 1px dotted black;border-radius: 0.25em;box-sizing: border-box;margin-bottom: 0.5em;}#sk-container-id-2 div.sk-estimator:hover {background-color: #d4ebff;}#sk-container-id-2 div.sk-parallel-item::after {content: \"\";width: 100%;border-bottom: 1px solid gray;flex-grow: 1;}#sk-container-id-2 div.sk-label:hover label.sk-toggleable__label {background-color: #d4ebff;}#sk-container-id-2 div.sk-serial::before {content: \"\";position: absolute;border-left: 1px solid gray;box-sizing: border-box;top: 0;bottom: 0;left: 50%;z-index: 0;}#sk-container-id-2 div.sk-serial {display: flex;flex-direction: column;align-items: center;background-color: white;padding-right: 0.2em;padding-left: 0.2em;position: relative;}#sk-container-id-2 div.sk-item {position: relative;z-index: 1;}#sk-container-id-2 div.sk-parallel {display: flex;align-items: stretch;justify-content: center;background-color: white;position: relative;}#sk-container-id-2 div.sk-item::before, #sk-container-id-2 div.sk-parallel-item::before {content: \"\";position: absolute;border-left: 1px solid gray;box-sizing: border-box;top: 0;bottom: 0;left: 50%;z-index: -1;}#sk-container-id-2 div.sk-parallel-item {display: flex;flex-direction: column;z-index: 1;position: relative;background-color: white;}#sk-container-id-2 div.sk-parallel-item:first-child::after {align-self: flex-end;width: 50%;}#sk-container-id-2 div.sk-parallel-item:last-child::after {align-self: flex-start;width: 50%;}#sk-container-id-2 div.sk-parallel-item:only-child::after {width: 0;}#sk-container-id-2 div.sk-dashed-wrapped {border: 1px dashed gray;margin: 0 0.4em 0.5em 0.4em;box-sizing: border-box;padding-bottom: 0.4em;background-color: white;}#sk-container-id-2 div.sk-label label {font-family: monospace;font-weight: bold;display: inline-block;line-height: 1.2em;}#sk-container-id-2 div.sk-label-container {text-align: center;}#sk-container-id-2 div.sk-container {/* jupyter's `normalize.less` sets `[hidden] { display: none; }` but bootstrap.min.css set `[hidden] { display: none !important; }` so we also need the `!important` here to be able to override the default hidden behavior on the sphinx rendered scikit-learn.org. See: https://github.com/scikit-learn/scikit-learn/issues/21755 */display: inline-block !important;position: relative;}#sk-container-id-2 div.sk-text-repr-fallback {display: none;}</style><div id=\"sk-container-id-2\" class=\"sk-top-container\"><div class=\"sk-text-repr-fallback\"><pre>DecisionTreeClassifier(max_depth=6, min_samples_leaf=13)</pre><b>In a Jupyter environment, please rerun this cell to show the HTML representation or trust the notebook. <br />On GitHub, the HTML representation is unable to render, please try loading this page with nbviewer.org.</b></div><div class=\"sk-container\" hidden><div class=\"sk-item\"><div class=\"sk-estimator sk-toggleable\"><input class=\"sk-toggleable__control sk-hidden--visually\" id=\"sk-estimator-id-2\" type=\"checkbox\" checked><label for=\"sk-estimator-id-2\" class=\"sk-toggleable__label sk-toggleable__label-arrow\">DecisionTreeClassifier</label><div class=\"sk-toggleable__content\"><pre>DecisionTreeClassifier(max_depth=6, min_samples_leaf=13)</pre></div></div></div></div></div>"
            ]
          },
          "metadata": {},
          "execution_count": 32
        }
      ]
    },
    {
      "cell_type": "code",
      "source": [
        "print('accuracy:', accuracy_score(y_test, clf.predict(X_test)))\n",
        "print('precision:', precision_score(y_test, clf.predict(X_test)))\n",
        "print('recall:', recall_score(y_test, clf.predict(X_test)))\n",
        "print('ROC-AUC:', roc_auc_score(y_test, clf.predict(X_test)))"
      ],
      "metadata": {
        "colab": {
          "base_uri": "https://localhost:8080/"
        },
        "id": "ZwgZLYZpZYXO",
        "outputId": "b4029147-f305-43ca-f573-6ca303185b91"
      },
      "execution_count": 33,
      "outputs": [
        {
          "output_type": "stream",
          "name": "stdout",
          "text": [
            "accuracy: 0.70995670995671\n",
            "precision: 0.5526315789473685\n",
            "recall: 0.56\n",
            "ROC-AUC: 0.671025641025641\n"
          ]
        }
      ]
    },
    {
      "cell_type": "markdown",
      "metadata": {
        "id": "yWg9j9gtCeSa"
      },
      "source": [
        "**Задание 3.3 (0.5 балла)** Обучите [`BaggingClassifier`](https://scikit-learn.org/stable/modules/generated/sklearn.ensemble.BaggingClassifier.html) на 50 деревьях на **полной обучающей** выборке. Оцените качество классификации на тестовой выборке по тем же метрикам."
      ]
    },
    {
      "cell_type": "code",
      "execution_count": 34,
      "metadata": {
        "id": "M-G0Z1c_CeSa",
        "colab": {
          "base_uri": "https://localhost:8080/"
        },
        "outputId": "b9d6ae3d-58d3-4135-eb7b-c95fc91b5eda"
      },
      "outputs": [
        {
          "output_type": "stream",
          "name": "stdout",
          "text": [
            "accuracy: 0.7965367965367965\n",
            "precision: 0.7258064516129032\n",
            "recall: 0.6\n",
            "ROC-AUC: 0.7455128205128205\n"
          ]
        }
      ],
      "source": [
        "clf = BaggingClassifier(n_estimators = 50)\n",
        "clf.fit(X_train, y_train)\n",
        "print('accuracy:', accuracy_score(y_test, clf.predict(X_test)))\n",
        "print('precision:', precision_score(y_test, clf.predict(X_test)))\n",
        "print('recall:', recall_score(y_test, clf.predict(X_test)))\n",
        "print('ROC-AUC:', roc_auc_score(y_test, clf.predict(X_test)))"
      ]
    },
    {
      "cell_type": "markdown",
      "metadata": {
        "id": "j_d9alcaCeSa"
      },
      "source": [
        "**Задание 3.4 (1 балл)** Выполните кросс-валидацию на полной обучающей выборке и подберите оптимальные значения гиперпараметров `max_depth` и `min_samples_split` для `Random Forest` с 50 деревьями. Для этого:\n",
        "\n",
        "1. Создайте списки с возможными значениями для перебора.\n",
        "2. Для каждой пары значений проведите кросс-валидацию на полной обучающей выборке. Количество разбиений выберите на ваш вкус. В качестве критерия будем использовать `f1-меру`. Усредните значение критерия по всем прогонам кросс-валидации. \n",
        "3. Выберите ту пару значений, которая даёт наилучшее среднее качество. \n",
        "\n",
        "Обучите случайный лес с подобранными гиперпараметрами на **полной обучающей** выборке. Оцените качество классификации по тем же метрикам. Какая из трёх построенных моделей показала себя лучше?"
      ]
    },
    {
      "cell_type": "code",
      "execution_count": 35,
      "metadata": {
        "id": "Z3hr6s47CeSb"
      },
      "outputs": [],
      "source": [
        "from sklearn.model_selection import cross_val_score\n",
        "max_depth = [_ for _ in range(1,11)]\n",
        "min_samples_leaf = [_ for _ in range(1,21)]\n",
        "\n",
        "best_params = []\n",
        "best_f1 = 0\n",
        "for i in range(0,len(max_depth)):\n",
        "    for j in range(0,len(min_samples_leaf)):\n",
        "        f1_cross = cross_val_score(RandomForestClassifier(n_estimators = 50, max_depth = max_depth[i], min_samples_leaf = min_samples_leaf[j]),\n",
        "                              X_train_full, y_train_full, cv = 5)\n",
        "        #print(f1_cross)\n",
        "        if np.mean(f1_cross) > best_f1:\n",
        "          best_f1 = np.mean(f1_cross)\n",
        "          best_params = [max_depth[i], min_samples_leaf[j]]"
      ]
    },
    {
      "cell_type": "code",
      "source": [
        "best_params"
      ],
      "metadata": {
        "colab": {
          "base_uri": "https://localhost:8080/"
        },
        "id": "ktbVlPEoi--2",
        "outputId": "a1dc9f8d-2737-4fda-905b-b6e699f31448"
      },
      "execution_count": 36,
      "outputs": [
        {
          "output_type": "execute_result",
          "data": {
            "text/plain": [
              "[8, 9]"
            ]
          },
          "metadata": {},
          "execution_count": 36
        }
      ]
    },
    {
      "cell_type": "markdown",
      "source": [
        "Жесть, он обучался 2 минуты (я умер, пока дебажил)\n",
        "\n"
      ],
      "metadata": {
        "id": "J8_YsmdAj-3D"
      }
    },
    {
      "cell_type": "code",
      "execution_count": 37,
      "metadata": {
        "id": "1KAE0xSuCeSb",
        "colab": {
          "base_uri": "https://localhost:8080/"
        },
        "outputId": "6827cf78-da3b-4191-88f5-bd63deff50c7"
      },
      "outputs": [
        {
          "output_type": "stream",
          "name": "stdout",
          "text": [
            "accuracy: 0.7878787878787878\n",
            "precision: 0.7321428571428571\n",
            "recall: 0.5466666666666666\n",
            "ROC-AUC: 0.7252564102564103\n"
          ]
        }
      ],
      "source": [
        "rf = RandomForestClassifier(n_estimators = 50, max_depth = 8, min_samples_leaf = 9)\n",
        "rf.fit(X_train, y_train)\n",
        "y_pred = rf.predict(X_test)\n",
        "\n",
        "print('accuracy:', accuracy_score(y_test, y_pred))\n",
        "print('precision:', precision_score(y_test, y_pred))\n",
        "print('recall:', recall_score(y_test, y_pred))\n",
        "print('ROC-AUC:', roc_auc_score(y_test, y_pred))"
      ]
    },
    {
      "cell_type": "markdown",
      "metadata": {
        "id": "JoZoh6AECeSb"
      },
      "source": [
        "**Задание 3.5 (0.5 балла)** Постройте график зависимости AUC ROC на тестовой выборке от числа деревьев (`n_estimators`) для случайного леса, обучаемого на **полной обучающей** выборке. Какие выводы можно сделать?"
      ]
    },
    {
      "cell_type": "code",
      "source": [
        "x = [_ for _ in range(1,201)]\n",
        "y = []\n",
        "for i in range(1, 201):\n",
        "    fclf = RandomForestClassifier(max_depth = 10, min_samples_leaf = 3, n_estimators = i)\n",
        "    fclf.fit(X_train_full, y_train_full)\n",
        "    y.append(roc_auc_score(y_test, fclf.predict(X_test)))\n",
        "plt.plot(x, y)\n",
        "plt.xlabel(\"n_estimators\")\n",
        "plt.ylabel(\"AUC-ROC\")\n",
        "plt.show()"
      ],
      "metadata": {
        "colab": {
          "base_uri": "https://localhost:8080/",
          "height": 450
        },
        "id": "6m6COs9WlrGt",
        "outputId": "1a4b16c0-912a-4e8a-8a8d-6e4c9f8e04c2"
      },
      "execution_count": 38,
      "outputs": [
        {
          "output_type": "display_data",
          "data": {
            "text/plain": [
              "<Figure size 640x480 with 1 Axes>"
            ],
            "image/png": "[encoded data removed]"
          },
          "metadata": {}
        }
      ]
    },
    {
      "cell_type": "markdown",
      "source": [
        "50 деревьев - не самый лучший вариант, при маленьком числе у нас рок-аук плохой, при большом уже все не так эффективно, лучше всего в районе 30 или 100 деревьев"
      ],
      "metadata": {
        "id": "gnCnihHInfsh"
      }
    },
    {
      "cell_type": "markdown",
      "metadata": {
        "id": "f2fZq7bSCeSb"
      },
      "source": [
        "**Задание 3.6 (0.5 балла)** Для лучшей модели случайного леса из **Задания 3.4** посчитайте важность признаков и постройте bar plot. Какой признак оказался самым важным для определения диабета?"
      ]
    },
    {
      "cell_type": "code",
      "execution_count": 39,
      "metadata": {
        "id": "lQo-gqEaCeSb",
        "colab": {
          "base_uri": "https://localhost:8080/",
          "height": 468
        },
        "outputId": "9f9cdee5-bcfa-4f16-d836-4e21309ece7f"
      },
      "outputs": [
        {
          "output_type": "execute_result",
          "data": {
            "text/plain": [
              "<BarContainer object of 8 artists>"
            ]
          },
          "metadata": {},
          "execution_count": 39
        },
        {
          "output_type": "display_data",
          "data": {
            "text/plain": [
              "<Figure size 2000x1000 with 1 Axes>"
            ],
            "image/png": "[encoded data removed]"
          },
          "metadata": {}
        }
      ],
      "source": [
        "plt.figure(figsize = (20, 10))\n",
        "fclf = RandomForestClassifier(max_depth = 8, min_samples_leaf = 9, n_estimators = 50)\n",
        "fclf.fit(X_train, y_train)\n",
        "plt.bar(X.columns, fclf.feature_importances_)"
      ]
    },
    {
      "cell_type": "markdown",
      "source": [
        "Жеееееесть, глюкоза наиболее важный фактор в определении сахарного диабета"
      ],
      "metadata": {
        "id": "Idngj0kdpASc"
      }
    }
  ],
  "metadata": {
    "colab": {
      "provenance": []
    },
    "kernelspec": {
      "display_name": "Python 3 (ipykernel)",
      "language": "python",
      "name": "python3"
    },
    "language_info": {
      "codemirror_mode": {
        "name": "ipython",
        "version": 3
      },
      "file_extension": ".py",
      "mimetype": "text/x-python",
      "name": "python",
      "nbconvert_exporter": "python",
      "pygments_lexer": "ipython3",
      "version": "3.9.12"
    }
  },
  "nbformat": 4,
  "nbformat_minor": 0
}